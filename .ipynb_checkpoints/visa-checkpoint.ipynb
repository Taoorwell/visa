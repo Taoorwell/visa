{
 "cells": [
  {
   "cell_type": "code",
   "execution_count": 19,
   "metadata": {},
   "outputs": [],
   "source": [
    "import requests\n",
    "import time\n",
    "import urllib\n",
    "from selenium import webdriver\n",
    "from selenium.webdriver.chrome.options import Options\n",
    "from PIL import Image\n",
    "from selenium.webdriver.support.select import Select\n",
    "from selenium.webdriver.common.keys import Keys\n",
    "# from bs4 import BeautifulSoup as soup"
   ]
  },
  {
   "cell_type": "code",
   "execution_count": 184,
   "metadata": {},
   "outputs": [],
   "source": [
    "link  = 'https://service2.diplo.de/rktermin/extern/appointment_showMonth.do?locationCode=shan&realmId=96&categoryId=560'"
   ]
  },
  {
   "cell_type": "code",
   "execution_count": 7,
   "metadata": {},
   "outputs": [],
   "source": [
    "link1 = 'https://service2.diplo.de/rktermin/extern/appointment_showMonth.do?locationCode=cheng&realmId=170&categoryId=331'"
   ]
  },
  {
   "cell_type": "code",
   "execution_count": null,
   "metadata": {
    "scrolled": true
   },
   "outputs": [
    {
     "name": "stderr",
     "output_type": "stream",
     "text": [
      "c:\\python36\\lib\\site-packages\\ipykernel_launcher.py:7: DeprecationWarning: use options instead of chrome_options\n",
      "  import sys\n"
     ]
    }
   ],
   "source": [
    "option = Options()\n",
    "# option.add_argument('--headless')\n",
    "chrome_prefs = {}\n",
    "option.experimental_options[\"prefs\"] = chrome_prefs\n",
    "chrome_prefs[\"profile.default_content_settings\"] = {\"images\": 2}\n",
    "chrome_prefs[\"profile.manaNged_default_content_settings\"] = {\"images\": 2}\n",
    "driver = webdriver.Chrome(chrome_options=option)\n",
    "driver.get(link1)\n"
   ]
  },
  {
   "cell_type": "code",
   "execution_count": 23,
   "metadata": {},
   "outputs": [],
   "source": [
    "def valid_capcha(driver):\n",
    "    cap_info = driver.find_element_by_xpath('/html/body/div[1]/div[2]/div[1]/div[1]/form/div[1]/captcha/div')\n",
    "    image_link = cap_info.get_attribute('style').split(' ')[1][5:-2]\n",
    "    urllib.request.urlretrieve(image_link, 'valid.png')\n",
    "    image = Image.open('valid.png')\n",
    "    image.show()\n",
    "    print('Please input capacha:')\n",
    "    x = input()\n",
    "    driver.find_element_by_id('appointment_captcha_month_captchaText').send_keys(x)\n",
    "    driver.find_element_by_id('appointment_captcha_month_captchaText').send_keys(Keys.ENTER)"
   ]
  },
  {
   "cell_type": "code",
   "execution_count": 24,
   "metadata": {},
   "outputs": [
    {
     "name": "stdout",
     "output_type": "stream",
     "text": [
      "Please input capacha:\n",
      "dn3mxx\n",
      "capcha is right, please go on\n"
     ]
    }
   ],
   "source": [
    "valid_capcha(driver)\n",
    "i = 0\n",
    "while i == 0: \n",
    "    try:\n",
    "        driver.find_element_by_id('message')\n",
    "        print(\"capcha is wrong, reload again\")\n",
    "        valid_capcha(driver)\n",
    "    except:\n",
    "        print('capcha is right, please go on')\n",
    "        i = 1  "
   ]
  },
  {
   "cell_type": "code",
   "execution_count": 20,
   "metadata": {},
   "outputs": [],
   "source": [
    "driver.find_element_by_id('appointment_captcha_month_captchaText').send_keys(Keys.ENTER)"
   ]
  },
  {
   "cell_type": "code",
   "execution_count": null,
   "metadata": {},
   "outputs": [],
   "source": [
    "driver.execute_script(\"document.body.style.zoom='0.5'\")"
   ]
  },
  {
   "cell_type": "code",
   "execution_count": 10,
   "metadata": {},
   "outputs": [
    {
     "data": {
      "text/plain": [
       "True"
      ]
     },
     "execution_count": 10,
     "metadata": {},
     "output_type": "execute_result"
    }
   ],
   "source": [
    "driver.get_screenshot_as_file(\"screenshot.png\")"
   ]
  },
  {
   "cell_type": "code",
   "execution_count": null,
   "metadata": {
    "scrolled": true
   },
   "outputs": [],
   "source": [
    "driver.close()"
   ]
  },
  {
   "cell_type": "markdown",
   "metadata": {},
   "source": [
    "# second website click"
   ]
  },
  {
   "cell_type": "code",
   "execution_count": 189,
   "metadata": {},
   "outputs": [],
   "source": [
    "driver.find_element_by_xpath('//*[@id=\"content\"]/div[1]/div[32]/div[2]/a').click()"
   ]
  },
  {
   "cell_type": "code",
   "execution_count": 190,
   "metadata": {},
   "outputs": [],
   "source": [
    "driver.find_element_by_xpath('//*[@id=\"content\"]/div[1]/div[4]/div[2]/a').click()"
   ]
  },
  {
   "cell_type": "code",
   "execution_count": null,
   "metadata": {},
   "outputs": [],
   "source": []
  },
  {
   "cell_type": "code",
   "execution_count": null,
   "metadata": {},
   "outputs": [],
   "source": []
  },
  {
   "cell_type": "markdown",
   "metadata": {},
   "source": [
    "# third website fill "
   ]
  },
  {
   "cell_type": "code",
   "execution_count": 191,
   "metadata": {},
   "outputs": [],
   "source": [
    "info_tao = {'last_name': 'Jiang',\n",
    "            'first_name': 'Tao',\n",
    "            'mail': 'taoorwell@163.com',\n",
    "           'birth': '05121994',\n",
    "            'admission': '01102020',\n",
    "            'passport': 'EJ1359688',\n",
    "            'uni': 'University of Goettingen',\n",
    "            'phone': '1520589164'}"
   ]
  },
  {
   "cell_type": "markdown",
   "metadata": {},
   "source": [
    "Input directly"
   ]
  },
  {
   "cell_type": "code",
   "execution_count": 192,
   "metadata": {},
   "outputs": [],
   "source": [
    "driver.find_element_by_id('appointment_newAppointmentForm_lastname').send_keys(info_tao['last_name'])\n",
    "driver.find_element_by_id('appointment_newAppointmentForm_firstname').send_keys(info_tao['first_name'])\n",
    "driver.find_element_by_id('appointment_newAppointmentForm_email').send_keys(info_tao['mail'])\n",
    "driver.find_element_by_id('appointment_newAppointmentForm_emailrepeat').send_keys(info_tao['mail'])\n",
    "driver.find_element_by_id('appointment_newAppointmentForm_fields_1__content').send_keys(info_tao['passport'])\n",
    "driver.find_element_by_id('appointment_newAppointmentForm_fields_4__content').send_keys(info_tao['uni'])\n",
    "driver.find_element_by_id('appointment_newAppointmentForm_fields_5__content').send_keys(info_tao['phone'])"
   ]
  },
  {
   "cell_type": "markdown",
   "metadata": {},
   "source": [
    "select input"
   ]
  },
  {
   "cell_type": "code",
   "execution_count": 193,
   "metadata": {},
   "outputs": [],
   "source": [
    "s = Select(driver.find_element_by_id('appointment_newAppointmentForm_fields_2__content'))\n",
    "s.select_by_index(1)"
   ]
  },
  {
   "cell_type": "markdown",
   "metadata": {},
   "source": [
    "date input"
   ]
  },
  {
   "cell_type": "code",
   "execution_count": 198,
   "metadata": {},
   "outputs": [],
   "source": [
    "js = 'document.getElementById(\"fields0content\").removeAttribute(\"readonly\");'\n",
    "js1 = 'document.getElementById(\"fields3content\").removeAttribute(\"readonly\");'"
   ]
  },
  {
   "cell_type": "code",
   "execution_count": 199,
   "metadata": {},
   "outputs": [],
   "source": [
    "driver.execute_script(js)\n",
    "driver.find_element_by_id('fields0content').send_keys('12.05.1994')"
   ]
  },
  {
   "cell_type": "code",
   "execution_count": 200,
   "metadata": {},
   "outputs": [],
   "source": [
    "driver.execute_script(js1)\n",
    "driver.find_element_by_id('fields3content').send_keys('01.10.2020')"
   ]
  },
  {
   "cell_type": "markdown",
   "metadata": {},
   "source": [
    "click box"
   ]
  },
  {
   "cell_type": "code",
   "execution_count": 197,
   "metadata": {},
   "outputs": [
    {
     "ename": "ElementClickInterceptedException",
     "evalue": "Message: element click intercepted: Element <input type=\"checkbox\" name=\"fields[6].content\" value=\"true\" id=\"appointment_newAppointmentForm_fields_6__content\" class=\"input checkbox\"> is not clickable at point (52, 478). Other element would receive the click: <a class=\"ui-state-default\" href=\"#\">...</a>\n  (Session info: chrome=84.0.4147.105)\n",
     "output_type": "error",
     "traceback": [
      "\u001b[1;31m---------------------------------------------------------------------------\u001b[0m",
      "\u001b[1;31mElementClickInterceptedException\u001b[0m          Traceback (most recent call last)",
      "\u001b[1;32m<ipython-input-197-060320597211>\u001b[0m in \u001b[0;36m<module>\u001b[1;34m()\u001b[0m\n\u001b[0;32m      1\u001b[0m \u001b[1;31m# driver.find_element_by_id('appointment_newAppointmentForm_fields_6__content').click()\u001b[0m\u001b[1;33m\u001b[0m\u001b[1;33m\u001b[0m\u001b[0m\n\u001b[1;32m----> 2\u001b[1;33m \u001b[0mdriver\u001b[0m\u001b[1;33m.\u001b[0m\u001b[0mfind_element_by_xpath\u001b[0m\u001b[1;33m(\u001b[0m\u001b[1;34m'//*[@id=\"appointment_newAppointmentForm_fields_6__content\"]'\u001b[0m\u001b[1;33m)\u001b[0m\u001b[1;33m.\u001b[0m\u001b[0mclick\u001b[0m\u001b[1;33m(\u001b[0m\u001b[1;33m)\u001b[0m\u001b[1;33m\u001b[0m\u001b[0m\n\u001b[0m",
      "\u001b[1;32mc:\\python36\\lib\\site-packages\\selenium\\webdriver\\remote\\webelement.py\u001b[0m in \u001b[0;36mclick\u001b[1;34m(self)\u001b[0m\n\u001b[0;32m     78\u001b[0m     \u001b[1;32mdef\u001b[0m \u001b[0mclick\u001b[0m\u001b[1;33m(\u001b[0m\u001b[0mself\u001b[0m\u001b[1;33m)\u001b[0m\u001b[1;33m:\u001b[0m\u001b[1;33m\u001b[0m\u001b[0m\n\u001b[0;32m     79\u001b[0m         \u001b[1;34m\"\"\"Clicks the element.\"\"\"\u001b[0m\u001b[1;33m\u001b[0m\u001b[0m\n\u001b[1;32m---> 80\u001b[1;33m         \u001b[0mself\u001b[0m\u001b[1;33m.\u001b[0m\u001b[0m_execute\u001b[0m\u001b[1;33m(\u001b[0m\u001b[0mCommand\u001b[0m\u001b[1;33m.\u001b[0m\u001b[0mCLICK_ELEMENT\u001b[0m\u001b[1;33m)\u001b[0m\u001b[1;33m\u001b[0m\u001b[0m\n\u001b[0m\u001b[0;32m     81\u001b[0m \u001b[1;33m\u001b[0m\u001b[0m\n\u001b[0;32m     82\u001b[0m     \u001b[1;32mdef\u001b[0m \u001b[0msubmit\u001b[0m\u001b[1;33m(\u001b[0m\u001b[0mself\u001b[0m\u001b[1;33m)\u001b[0m\u001b[1;33m:\u001b[0m\u001b[1;33m\u001b[0m\u001b[0m\n",
      "\u001b[1;32mc:\\python36\\lib\\site-packages\\selenium\\webdriver\\remote\\webelement.py\u001b[0m in \u001b[0;36m_execute\u001b[1;34m(self, command, params)\u001b[0m\n\u001b[0;32m    631\u001b[0m             \u001b[0mparams\u001b[0m \u001b[1;33m=\u001b[0m \u001b[1;33m{\u001b[0m\u001b[1;33m}\u001b[0m\u001b[1;33m\u001b[0m\u001b[0m\n\u001b[0;32m    632\u001b[0m         \u001b[0mparams\u001b[0m\u001b[1;33m[\u001b[0m\u001b[1;34m'id'\u001b[0m\u001b[1;33m]\u001b[0m \u001b[1;33m=\u001b[0m \u001b[0mself\u001b[0m\u001b[1;33m.\u001b[0m\u001b[0m_id\u001b[0m\u001b[1;33m\u001b[0m\u001b[0m\n\u001b[1;32m--> 633\u001b[1;33m         \u001b[1;32mreturn\u001b[0m \u001b[0mself\u001b[0m\u001b[1;33m.\u001b[0m\u001b[0m_parent\u001b[0m\u001b[1;33m.\u001b[0m\u001b[0mexecute\u001b[0m\u001b[1;33m(\u001b[0m\u001b[0mcommand\u001b[0m\u001b[1;33m,\u001b[0m \u001b[0mparams\u001b[0m\u001b[1;33m)\u001b[0m\u001b[1;33m\u001b[0m\u001b[0m\n\u001b[0m\u001b[0;32m    634\u001b[0m \u001b[1;33m\u001b[0m\u001b[0m\n\u001b[0;32m    635\u001b[0m     \u001b[1;32mdef\u001b[0m \u001b[0mfind_element\u001b[0m\u001b[1;33m(\u001b[0m\u001b[0mself\u001b[0m\u001b[1;33m,\u001b[0m \u001b[0mby\u001b[0m\u001b[1;33m=\u001b[0m\u001b[0mBy\u001b[0m\u001b[1;33m.\u001b[0m\u001b[0mID\u001b[0m\u001b[1;33m,\u001b[0m \u001b[0mvalue\u001b[0m\u001b[1;33m=\u001b[0m\u001b[1;32mNone\u001b[0m\u001b[1;33m)\u001b[0m\u001b[1;33m:\u001b[0m\u001b[1;33m\u001b[0m\u001b[0m\n",
      "\u001b[1;32mc:\\python36\\lib\\site-packages\\selenium\\webdriver\\remote\\webdriver.py\u001b[0m in \u001b[0;36mexecute\u001b[1;34m(self, driver_command, params)\u001b[0m\n\u001b[0;32m    319\u001b[0m         \u001b[0mresponse\u001b[0m \u001b[1;33m=\u001b[0m \u001b[0mself\u001b[0m\u001b[1;33m.\u001b[0m\u001b[0mcommand_executor\u001b[0m\u001b[1;33m.\u001b[0m\u001b[0mexecute\u001b[0m\u001b[1;33m(\u001b[0m\u001b[0mdriver_command\u001b[0m\u001b[1;33m,\u001b[0m \u001b[0mparams\u001b[0m\u001b[1;33m)\u001b[0m\u001b[1;33m\u001b[0m\u001b[0m\n\u001b[0;32m    320\u001b[0m         \u001b[1;32mif\u001b[0m \u001b[0mresponse\u001b[0m\u001b[1;33m:\u001b[0m\u001b[1;33m\u001b[0m\u001b[0m\n\u001b[1;32m--> 321\u001b[1;33m             \u001b[0mself\u001b[0m\u001b[1;33m.\u001b[0m\u001b[0merror_handler\u001b[0m\u001b[1;33m.\u001b[0m\u001b[0mcheck_response\u001b[0m\u001b[1;33m(\u001b[0m\u001b[0mresponse\u001b[0m\u001b[1;33m)\u001b[0m\u001b[1;33m\u001b[0m\u001b[0m\n\u001b[0m\u001b[0;32m    322\u001b[0m             response['value'] = self._unwrap_value(\n\u001b[0;32m    323\u001b[0m                 response.get('value', None))\n",
      "\u001b[1;32mc:\\python36\\lib\\site-packages\\selenium\\webdriver\\remote\\errorhandler.py\u001b[0m in \u001b[0;36mcheck_response\u001b[1;34m(self, response)\u001b[0m\n\u001b[0;32m    240\u001b[0m                 \u001b[0malert_text\u001b[0m \u001b[1;33m=\u001b[0m \u001b[0mvalue\u001b[0m\u001b[1;33m[\u001b[0m\u001b[1;34m'alert'\u001b[0m\u001b[1;33m]\u001b[0m\u001b[1;33m.\u001b[0m\u001b[0mget\u001b[0m\u001b[1;33m(\u001b[0m\u001b[1;34m'text'\u001b[0m\u001b[1;33m)\u001b[0m\u001b[1;33m\u001b[0m\u001b[0m\n\u001b[0;32m    241\u001b[0m             \u001b[1;32mraise\u001b[0m \u001b[0mexception_class\u001b[0m\u001b[1;33m(\u001b[0m\u001b[0mmessage\u001b[0m\u001b[1;33m,\u001b[0m \u001b[0mscreen\u001b[0m\u001b[1;33m,\u001b[0m \u001b[0mstacktrace\u001b[0m\u001b[1;33m,\u001b[0m \u001b[0malert_text\u001b[0m\u001b[1;33m)\u001b[0m\u001b[1;33m\u001b[0m\u001b[0m\n\u001b[1;32m--> 242\u001b[1;33m         \u001b[1;32mraise\u001b[0m \u001b[0mexception_class\u001b[0m\u001b[1;33m(\u001b[0m\u001b[0mmessage\u001b[0m\u001b[1;33m,\u001b[0m \u001b[0mscreen\u001b[0m\u001b[1;33m,\u001b[0m \u001b[0mstacktrace\u001b[0m\u001b[1;33m)\u001b[0m\u001b[1;33m\u001b[0m\u001b[0m\n\u001b[0m\u001b[0;32m    243\u001b[0m \u001b[1;33m\u001b[0m\u001b[0m\n\u001b[0;32m    244\u001b[0m     \u001b[1;32mdef\u001b[0m \u001b[0m_value_or_default\u001b[0m\u001b[1;33m(\u001b[0m\u001b[0mself\u001b[0m\u001b[1;33m,\u001b[0m \u001b[0mobj\u001b[0m\u001b[1;33m,\u001b[0m \u001b[0mkey\u001b[0m\u001b[1;33m,\u001b[0m \u001b[0mdefault\u001b[0m\u001b[1;33m)\u001b[0m\u001b[1;33m:\u001b[0m\u001b[1;33m\u001b[0m\u001b[0m\n",
      "\u001b[1;31mElementClickInterceptedException\u001b[0m: Message: element click intercepted: Element <input type=\"checkbox\" name=\"fields[6].content\" value=\"true\" id=\"appointment_newAppointmentForm_fields_6__content\" class=\"input checkbox\"> is not clickable at point (52, 478). Other element would receive the click: <a class=\"ui-state-default\" href=\"#\">...</a>\n  (Session info: chrome=84.0.4147.105)\n"
     ]
    }
   ],
   "source": [
    "# driver.find_element_by_id('appointment_newAppointmentForm_fields_6__content').click()\n",
    "driver.find_element_by_xpath('//*[@id=\"appointment_newAppointmentForm_fields_6__content\"]').click()\n"
   ]
  },
  {
   "cell_type": "markdown",
   "metadata": {},
   "source": [
    "capcha valid"
   ]
  },
  {
   "cell_type": "code",
   "execution_count": 178,
   "metadata": {},
   "outputs": [
    {
     "name": "stdout",
     "output_type": "stream",
     "text": [
      "Please input capacha:\n",
      "8caa82\n"
     ]
    }
   ],
   "source": [
    "cap_info = driver.find_element_by_xpath('/html/body/div[1]/div[2]/div[1]/div[1]/fieldset/form/div[12]/div[1]/captcha/div')\n",
    "image_link = cap_info.get_attribute('style').split(' ')[1][5:-2]\n",
    "urllib.request.urlretrieve(image_link, 'valid1.png')\n",
    "image = Image.open('valid1.png')\n",
    "image.show()\n",
    "print('Please input capacha:')\n",
    "x = input()\n",
    "driver.find_element_by_id('appointment_newAppointmentForm_captchaText').send_keys(x)"
   ]
  },
  {
   "cell_type": "code",
   "execution_count": 180,
   "metadata": {},
   "outputs": [],
   "source": [
    "driver.find_element_by_id('appointment_newAppointmentForm_appointment_addAppointment').click()"
   ]
  },
  {
   "cell_type": "code",
   "execution_count": 181,
   "metadata": {},
   "outputs": [
    {
     "data": {
      "text/plain": [
       "True"
      ]
     },
     "execution_count": 181,
     "metadata": {},
     "output_type": "execute_result"
    }
   ],
   "source": [
    "driver.get_screenshot_as_file(\"screenshot1.png\")"
   ]
  },
  {
   "cell_type": "code",
   "execution_count": 201,
   "metadata": {},
   "outputs": [],
   "source": [
    "driver.close()"
   ]
  },
  {
   "cell_type": "code",
   "execution_count": 161,
   "metadata": {
    "collapsed": true
   },
   "outputs": [
    {
     "ename": "MaxRetryError",
     "evalue": "HTTPConnectionPool(host='127.0.0.1', port=58925): Max retries exceeded with url: /session/61dff164306306ffca357f04c75a99e4/forward (Caused by NewConnectionError('<urllib3.connection.HTTPConnection object at 0x0000024312F50320>: Failed to establish a new connection: [WinError 10061] No connection could be made because the target machine actively refused it',))",
     "output_type": "error",
     "traceback": [
      "\u001b[1;31m---------------------------------------------------------------------------\u001b[0m",
      "\u001b[1;31mConnectionRefusedError\u001b[0m                    Traceback (most recent call last)",
      "\u001b[1;32mc:\\python36\\lib\\site-packages\\urllib3\\connection.py\u001b[0m in \u001b[0;36m_new_conn\u001b[1;34m(self)\u001b[0m\n\u001b[0;32m    140\u001b[0m             conn = connection.create_connection(\n\u001b[1;32m--> 141\u001b[1;33m                 (self.host, self.port), self.timeout, **extra_kw)\n\u001b[0m\u001b[0;32m    142\u001b[0m \u001b[1;33m\u001b[0m\u001b[0m\n",
      "\u001b[1;32mc:\\python36\\lib\\site-packages\\urllib3\\util\\connection.py\u001b[0m in \u001b[0;36mcreate_connection\u001b[1;34m(address, timeout, source_address, socket_options)\u001b[0m\n\u001b[0;32m     82\u001b[0m     \u001b[1;32mif\u001b[0m \u001b[0merr\u001b[0m \u001b[1;32mis\u001b[0m \u001b[1;32mnot\u001b[0m \u001b[1;32mNone\u001b[0m\u001b[1;33m:\u001b[0m\u001b[1;33m\u001b[0m\u001b[0m\n\u001b[1;32m---> 83\u001b[1;33m         \u001b[1;32mraise\u001b[0m \u001b[0merr\u001b[0m\u001b[1;33m\u001b[0m\u001b[0m\n\u001b[0m\u001b[0;32m     84\u001b[0m \u001b[1;33m\u001b[0m\u001b[0m\n",
      "\u001b[1;32mc:\\python36\\lib\\site-packages\\urllib3\\util\\connection.py\u001b[0m in \u001b[0;36mcreate_connection\u001b[1;34m(address, timeout, source_address, socket_options)\u001b[0m\n\u001b[0;32m     72\u001b[0m                 \u001b[0msock\u001b[0m\u001b[1;33m.\u001b[0m\u001b[0mbind\u001b[0m\u001b[1;33m(\u001b[0m\u001b[0msource_address\u001b[0m\u001b[1;33m)\u001b[0m\u001b[1;33m\u001b[0m\u001b[0m\n\u001b[1;32m---> 73\u001b[1;33m             \u001b[0msock\u001b[0m\u001b[1;33m.\u001b[0m\u001b[0mconnect\u001b[0m\u001b[1;33m(\u001b[0m\u001b[0msa\u001b[0m\u001b[1;33m)\u001b[0m\u001b[1;33m\u001b[0m\u001b[0m\n\u001b[0m\u001b[0;32m     74\u001b[0m             \u001b[1;32mreturn\u001b[0m \u001b[0msock\u001b[0m\u001b[1;33m\u001b[0m\u001b[0m\n",
      "\u001b[1;31mConnectionRefusedError\u001b[0m: [WinError 10061] No connection could be made because the target machine actively refused it",
      "\nDuring handling of the above exception, another exception occurred:\n",
      "\u001b[1;31mNewConnectionError\u001b[0m                        Traceback (most recent call last)",
      "\u001b[1;32mc:\\python36\\lib\\site-packages\\urllib3\\connectionpool.py\u001b[0m in \u001b[0;36murlopen\u001b[1;34m(self, method, url, body, headers, retries, redirect, assert_same_host, timeout, pool_timeout, release_conn, chunked, body_pos, **response_kw)\u001b[0m\n\u001b[0;32m    600\u001b[0m                                                   \u001b[0mbody\u001b[0m\u001b[1;33m=\u001b[0m\u001b[0mbody\u001b[0m\u001b[1;33m,\u001b[0m \u001b[0mheaders\u001b[0m\u001b[1;33m=\u001b[0m\u001b[0mheaders\u001b[0m\u001b[1;33m,\u001b[0m\u001b[1;33m\u001b[0m\u001b[0m\n\u001b[1;32m--> 601\u001b[1;33m                                                   chunked=chunked)\n\u001b[0m\u001b[0;32m    602\u001b[0m \u001b[1;33m\u001b[0m\u001b[0m\n",
      "\u001b[1;32mc:\\python36\\lib\\site-packages\\urllib3\\connectionpool.py\u001b[0m in \u001b[0;36m_make_request\u001b[1;34m(self, conn, method, url, timeout, chunked, **httplib_request_kw)\u001b[0m\n\u001b[0;32m    356\u001b[0m         \u001b[1;32melse\u001b[0m\u001b[1;33m:\u001b[0m\u001b[1;33m\u001b[0m\u001b[0m\n\u001b[1;32m--> 357\u001b[1;33m             \u001b[0mconn\u001b[0m\u001b[1;33m.\u001b[0m\u001b[0mrequest\u001b[0m\u001b[1;33m(\u001b[0m\u001b[0mmethod\u001b[0m\u001b[1;33m,\u001b[0m \u001b[0murl\u001b[0m\u001b[1;33m,\u001b[0m \u001b[1;33m**\u001b[0m\u001b[0mhttplib_request_kw\u001b[0m\u001b[1;33m)\u001b[0m\u001b[1;33m\u001b[0m\u001b[0m\n\u001b[0m\u001b[0;32m    358\u001b[0m \u001b[1;33m\u001b[0m\u001b[0m\n",
      "\u001b[1;32mc:\\python36\\lib\\http\\client.py\u001b[0m in \u001b[0;36mrequest\u001b[1;34m(self, method, url, body, headers, encode_chunked)\u001b[0m\n\u001b[0;32m   1238\u001b[0m         \u001b[1;34m\"\"\"Send a complete request to the server.\"\"\"\u001b[0m\u001b[1;33m\u001b[0m\u001b[0m\n\u001b[1;32m-> 1239\u001b[1;33m         \u001b[0mself\u001b[0m\u001b[1;33m.\u001b[0m\u001b[0m_send_request\u001b[0m\u001b[1;33m(\u001b[0m\u001b[0mmethod\u001b[0m\u001b[1;33m,\u001b[0m \u001b[0murl\u001b[0m\u001b[1;33m,\u001b[0m \u001b[0mbody\u001b[0m\u001b[1;33m,\u001b[0m \u001b[0mheaders\u001b[0m\u001b[1;33m,\u001b[0m \u001b[0mencode_chunked\u001b[0m\u001b[1;33m)\u001b[0m\u001b[1;33m\u001b[0m\u001b[0m\n\u001b[0m\u001b[0;32m   1240\u001b[0m \u001b[1;33m\u001b[0m\u001b[0m\n",
      "\u001b[1;32mc:\\python36\\lib\\http\\client.py\u001b[0m in \u001b[0;36m_send_request\u001b[1;34m(self, method, url, body, headers, encode_chunked)\u001b[0m\n\u001b[0;32m   1284\u001b[0m             \u001b[0mbody\u001b[0m \u001b[1;33m=\u001b[0m \u001b[0m_encode\u001b[0m\u001b[1;33m(\u001b[0m\u001b[0mbody\u001b[0m\u001b[1;33m,\u001b[0m \u001b[1;34m'body'\u001b[0m\u001b[1;33m)\u001b[0m\u001b[1;33m\u001b[0m\u001b[0m\n\u001b[1;32m-> 1285\u001b[1;33m         \u001b[0mself\u001b[0m\u001b[1;33m.\u001b[0m\u001b[0mendheaders\u001b[0m\u001b[1;33m(\u001b[0m\u001b[0mbody\u001b[0m\u001b[1;33m,\u001b[0m \u001b[0mencode_chunked\u001b[0m\u001b[1;33m=\u001b[0m\u001b[0mencode_chunked\u001b[0m\u001b[1;33m)\u001b[0m\u001b[1;33m\u001b[0m\u001b[0m\n\u001b[0m\u001b[0;32m   1286\u001b[0m \u001b[1;33m\u001b[0m\u001b[0m\n",
      "\u001b[1;32mc:\\python36\\lib\\http\\client.py\u001b[0m in \u001b[0;36mendheaders\u001b[1;34m(self, message_body, encode_chunked)\u001b[0m\n\u001b[0;32m   1233\u001b[0m             \u001b[1;32mraise\u001b[0m \u001b[0mCannotSendHeader\u001b[0m\u001b[1;33m(\u001b[0m\u001b[1;33m)\u001b[0m\u001b[1;33m\u001b[0m\u001b[0m\n\u001b[1;32m-> 1234\u001b[1;33m         \u001b[0mself\u001b[0m\u001b[1;33m.\u001b[0m\u001b[0m_send_output\u001b[0m\u001b[1;33m(\u001b[0m\u001b[0mmessage_body\u001b[0m\u001b[1;33m,\u001b[0m \u001b[0mencode_chunked\u001b[0m\u001b[1;33m=\u001b[0m\u001b[0mencode_chunked\u001b[0m\u001b[1;33m)\u001b[0m\u001b[1;33m\u001b[0m\u001b[0m\n\u001b[0m\u001b[0;32m   1235\u001b[0m \u001b[1;33m\u001b[0m\u001b[0m\n",
      "\u001b[1;32mc:\\python36\\lib\\http\\client.py\u001b[0m in \u001b[0;36m_send_output\u001b[1;34m(self, message_body, encode_chunked)\u001b[0m\n\u001b[0;32m   1025\u001b[0m         \u001b[1;32mdel\u001b[0m \u001b[0mself\u001b[0m\u001b[1;33m.\u001b[0m\u001b[0m_buffer\u001b[0m\u001b[1;33m[\u001b[0m\u001b[1;33m:\u001b[0m\u001b[1;33m]\u001b[0m\u001b[1;33m\u001b[0m\u001b[0m\n\u001b[1;32m-> 1026\u001b[1;33m         \u001b[0mself\u001b[0m\u001b[1;33m.\u001b[0m\u001b[0msend\u001b[0m\u001b[1;33m(\u001b[0m\u001b[0mmsg\u001b[0m\u001b[1;33m)\u001b[0m\u001b[1;33m\u001b[0m\u001b[0m\n\u001b[0m\u001b[0;32m   1027\u001b[0m \u001b[1;33m\u001b[0m\u001b[0m\n",
      "\u001b[1;32mc:\\python36\\lib\\http\\client.py\u001b[0m in \u001b[0;36msend\u001b[1;34m(self, data)\u001b[0m\n\u001b[0;32m    963\u001b[0m             \u001b[1;32mif\u001b[0m \u001b[0mself\u001b[0m\u001b[1;33m.\u001b[0m\u001b[0mauto_open\u001b[0m\u001b[1;33m:\u001b[0m\u001b[1;33m\u001b[0m\u001b[0m\n\u001b[1;32m--> 964\u001b[1;33m                 \u001b[0mself\u001b[0m\u001b[1;33m.\u001b[0m\u001b[0mconnect\u001b[0m\u001b[1;33m(\u001b[0m\u001b[1;33m)\u001b[0m\u001b[1;33m\u001b[0m\u001b[0m\n\u001b[0m\u001b[0;32m    965\u001b[0m             \u001b[1;32melse\u001b[0m\u001b[1;33m:\u001b[0m\u001b[1;33m\u001b[0m\u001b[0m\n",
      "\u001b[1;32mc:\\python36\\lib\\site-packages\\urllib3\\connection.py\u001b[0m in \u001b[0;36mconnect\u001b[1;34m(self)\u001b[0m\n\u001b[0;32m    165\u001b[0m     \u001b[1;32mdef\u001b[0m \u001b[0mconnect\u001b[0m\u001b[1;33m(\u001b[0m\u001b[0mself\u001b[0m\u001b[1;33m)\u001b[0m\u001b[1;33m:\u001b[0m\u001b[1;33m\u001b[0m\u001b[0m\n\u001b[1;32m--> 166\u001b[1;33m         \u001b[0mconn\u001b[0m \u001b[1;33m=\u001b[0m \u001b[0mself\u001b[0m\u001b[1;33m.\u001b[0m\u001b[0m_new_conn\u001b[0m\u001b[1;33m(\u001b[0m\u001b[1;33m)\u001b[0m\u001b[1;33m\u001b[0m\u001b[0m\n\u001b[0m\u001b[0;32m    167\u001b[0m         \u001b[0mself\u001b[0m\u001b[1;33m.\u001b[0m\u001b[0m_prepare_conn\u001b[0m\u001b[1;33m(\u001b[0m\u001b[0mconn\u001b[0m\u001b[1;33m)\u001b[0m\u001b[1;33m\u001b[0m\u001b[0m\n",
      "\u001b[1;32mc:\\python36\\lib\\site-packages\\urllib3\\connection.py\u001b[0m in \u001b[0;36m_new_conn\u001b[1;34m(self)\u001b[0m\n\u001b[0;32m    149\u001b[0m             raise NewConnectionError(\n\u001b[1;32m--> 150\u001b[1;33m                 self, \"Failed to establish a new connection: %s\" % e)\n\u001b[0m\u001b[0;32m    151\u001b[0m \u001b[1;33m\u001b[0m\u001b[0m\n",
      "\u001b[1;31mNewConnectionError\u001b[0m: <urllib3.connection.HTTPConnection object at 0x0000024312F50320>: Failed to establish a new connection: [WinError 10061] No connection could be made because the target machine actively refused it",
      "\nDuring handling of the above exception, another exception occurred:\n",
      "\u001b[1;31mMaxRetryError\u001b[0m                             Traceback (most recent call last)",
      "\u001b[1;32m<ipython-input-161-980084120216>\u001b[0m in \u001b[0;36m<module>\u001b[1;34m()\u001b[0m\n\u001b[1;32m----> 1\u001b[1;33m \u001b[0mdriver\u001b[0m\u001b[1;33m.\u001b[0m\u001b[0mforward\u001b[0m\u001b[1;33m(\u001b[0m\u001b[1;33m)\u001b[0m\u001b[1;33m\u001b[0m\u001b[0m\n\u001b[0m",
      "\u001b[1;32mc:\\python36\\lib\\site-packages\\selenium\\webdriver\\remote\\webdriver.py\u001b[0m in \u001b[0;36mforward\u001b[1;34m(self)\u001b[0m\n\u001b[0;32m    820\u001b[0m             \u001b[0mdriver\u001b[0m\u001b[1;33m.\u001b[0m\u001b[0mforward\u001b[0m\u001b[1;33m(\u001b[0m\u001b[1;33m)\u001b[0m\u001b[1;33m\u001b[0m\u001b[0m\n\u001b[0;32m    821\u001b[0m         \"\"\"\n\u001b[1;32m--> 822\u001b[1;33m         \u001b[0mself\u001b[0m\u001b[1;33m.\u001b[0m\u001b[0mexecute\u001b[0m\u001b[1;33m(\u001b[0m\u001b[0mCommand\u001b[0m\u001b[1;33m.\u001b[0m\u001b[0mGO_FORWARD\u001b[0m\u001b[1;33m)\u001b[0m\u001b[1;33m\u001b[0m\u001b[0m\n\u001b[0m\u001b[0;32m    823\u001b[0m \u001b[1;33m\u001b[0m\u001b[0m\n\u001b[0;32m    824\u001b[0m     \u001b[1;32mdef\u001b[0m \u001b[0mrefresh\u001b[0m\u001b[1;33m(\u001b[0m\u001b[0mself\u001b[0m\u001b[1;33m)\u001b[0m\u001b[1;33m:\u001b[0m\u001b[1;33m\u001b[0m\u001b[0m\n",
      "\u001b[1;32mc:\\python36\\lib\\site-packages\\selenium\\webdriver\\remote\\webdriver.py\u001b[0m in \u001b[0;36mexecute\u001b[1;34m(self, driver_command, params)\u001b[0m\n\u001b[0;32m    317\u001b[0m \u001b[1;33m\u001b[0m\u001b[0m\n\u001b[0;32m    318\u001b[0m         \u001b[0mparams\u001b[0m \u001b[1;33m=\u001b[0m \u001b[0mself\u001b[0m\u001b[1;33m.\u001b[0m\u001b[0m_wrap_value\u001b[0m\u001b[1;33m(\u001b[0m\u001b[0mparams\u001b[0m\u001b[1;33m)\u001b[0m\u001b[1;33m\u001b[0m\u001b[0m\n\u001b[1;32m--> 319\u001b[1;33m         \u001b[0mresponse\u001b[0m \u001b[1;33m=\u001b[0m \u001b[0mself\u001b[0m\u001b[1;33m.\u001b[0m\u001b[0mcommand_executor\u001b[0m\u001b[1;33m.\u001b[0m\u001b[0mexecute\u001b[0m\u001b[1;33m(\u001b[0m\u001b[0mdriver_command\u001b[0m\u001b[1;33m,\u001b[0m \u001b[0mparams\u001b[0m\u001b[1;33m)\u001b[0m\u001b[1;33m\u001b[0m\u001b[0m\n\u001b[0m\u001b[0;32m    320\u001b[0m         \u001b[1;32mif\u001b[0m \u001b[0mresponse\u001b[0m\u001b[1;33m:\u001b[0m\u001b[1;33m\u001b[0m\u001b[0m\n\u001b[0;32m    321\u001b[0m             \u001b[0mself\u001b[0m\u001b[1;33m.\u001b[0m\u001b[0merror_handler\u001b[0m\u001b[1;33m.\u001b[0m\u001b[0mcheck_response\u001b[0m\u001b[1;33m(\u001b[0m\u001b[0mresponse\u001b[0m\u001b[1;33m)\u001b[0m\u001b[1;33m\u001b[0m\u001b[0m\n",
      "\u001b[1;32mc:\\python36\\lib\\site-packages\\selenium\\webdriver\\remote\\remote_connection.py\u001b[0m in \u001b[0;36mexecute\u001b[1;34m(self, command, params)\u001b[0m\n\u001b[0;32m    372\u001b[0m         \u001b[0mdata\u001b[0m \u001b[1;33m=\u001b[0m \u001b[0mutils\u001b[0m\u001b[1;33m.\u001b[0m\u001b[0mdump_json\u001b[0m\u001b[1;33m(\u001b[0m\u001b[0mparams\u001b[0m\u001b[1;33m)\u001b[0m\u001b[1;33m\u001b[0m\u001b[0m\n\u001b[0;32m    373\u001b[0m         \u001b[0murl\u001b[0m \u001b[1;33m=\u001b[0m \u001b[1;34m'%s%s'\u001b[0m \u001b[1;33m%\u001b[0m \u001b[1;33m(\u001b[0m\u001b[0mself\u001b[0m\u001b[1;33m.\u001b[0m\u001b[0m_url\u001b[0m\u001b[1;33m,\u001b[0m \u001b[0mpath\u001b[0m\u001b[1;33m)\u001b[0m\u001b[1;33m\u001b[0m\u001b[0m\n\u001b[1;32m--> 374\u001b[1;33m         \u001b[1;32mreturn\u001b[0m \u001b[0mself\u001b[0m\u001b[1;33m.\u001b[0m\u001b[0m_request\u001b[0m\u001b[1;33m(\u001b[0m\u001b[0mcommand_info\u001b[0m\u001b[1;33m[\u001b[0m\u001b[1;36m0\u001b[0m\u001b[1;33m]\u001b[0m\u001b[1;33m,\u001b[0m \u001b[0murl\u001b[0m\u001b[1;33m,\u001b[0m \u001b[0mbody\u001b[0m\u001b[1;33m=\u001b[0m\u001b[0mdata\u001b[0m\u001b[1;33m)\u001b[0m\u001b[1;33m\u001b[0m\u001b[0m\n\u001b[0m\u001b[0;32m    375\u001b[0m \u001b[1;33m\u001b[0m\u001b[0m\n\u001b[0;32m    376\u001b[0m     \u001b[1;32mdef\u001b[0m \u001b[0m_request\u001b[0m\u001b[1;33m(\u001b[0m\u001b[0mself\u001b[0m\u001b[1;33m,\u001b[0m \u001b[0mmethod\u001b[0m\u001b[1;33m,\u001b[0m \u001b[0murl\u001b[0m\u001b[1;33m,\u001b[0m \u001b[0mbody\u001b[0m\u001b[1;33m=\u001b[0m\u001b[1;32mNone\u001b[0m\u001b[1;33m)\u001b[0m\u001b[1;33m:\u001b[0m\u001b[1;33m\u001b[0m\u001b[0m\n",
      "\u001b[1;32mc:\\python36\\lib\\site-packages\\selenium\\webdriver\\remote\\remote_connection.py\u001b[0m in \u001b[0;36m_request\u001b[1;34m(self, method, url, body)\u001b[0m\n\u001b[0;32m    395\u001b[0m \u001b[1;33m\u001b[0m\u001b[0m\n\u001b[0;32m    396\u001b[0m         \u001b[1;32mif\u001b[0m \u001b[0mself\u001b[0m\u001b[1;33m.\u001b[0m\u001b[0mkeep_alive\u001b[0m\u001b[1;33m:\u001b[0m\u001b[1;33m\u001b[0m\u001b[0m\n\u001b[1;32m--> 397\u001b[1;33m             \u001b[0mresp\u001b[0m \u001b[1;33m=\u001b[0m \u001b[0mself\u001b[0m\u001b[1;33m.\u001b[0m\u001b[0m_conn\u001b[0m\u001b[1;33m.\u001b[0m\u001b[0mrequest\u001b[0m\u001b[1;33m(\u001b[0m\u001b[0mmethod\u001b[0m\u001b[1;33m,\u001b[0m \u001b[0murl\u001b[0m\u001b[1;33m,\u001b[0m \u001b[0mbody\u001b[0m\u001b[1;33m=\u001b[0m\u001b[0mbody\u001b[0m\u001b[1;33m,\u001b[0m \u001b[0mheaders\u001b[0m\u001b[1;33m=\u001b[0m\u001b[0mheaders\u001b[0m\u001b[1;33m)\u001b[0m\u001b[1;33m\u001b[0m\u001b[0m\n\u001b[0m\u001b[0;32m    398\u001b[0m \u001b[1;33m\u001b[0m\u001b[0m\n\u001b[0;32m    399\u001b[0m             \u001b[0mstatuscode\u001b[0m \u001b[1;33m=\u001b[0m \u001b[0mresp\u001b[0m\u001b[1;33m.\u001b[0m\u001b[0mstatus\u001b[0m\u001b[1;33m\u001b[0m\u001b[0m\n",
      "\u001b[1;32mc:\\python36\\lib\\site-packages\\urllib3\\request.py\u001b[0m in \u001b[0;36mrequest\u001b[1;34m(self, method, url, fields, headers, **urlopen_kw)\u001b[0m\n\u001b[0;32m     68\u001b[0m             return self.request_encode_body(method, url, fields=fields,\n\u001b[0;32m     69\u001b[0m                                             \u001b[0mheaders\u001b[0m\u001b[1;33m=\u001b[0m\u001b[0mheaders\u001b[0m\u001b[1;33m,\u001b[0m\u001b[1;33m\u001b[0m\u001b[0m\n\u001b[1;32m---> 70\u001b[1;33m                                             **urlopen_kw)\n\u001b[0m\u001b[0;32m     71\u001b[0m \u001b[1;33m\u001b[0m\u001b[0m\n\u001b[0;32m     72\u001b[0m     def request_encode_url(self, method, url, fields=None, headers=None,\n",
      "\u001b[1;32mc:\\python36\\lib\\site-packages\\urllib3\\request.py\u001b[0m in \u001b[0;36mrequest_encode_body\u001b[1;34m(self, method, url, fields, headers, encode_multipart, multipart_boundary, **urlopen_kw)\u001b[0m\n\u001b[0;32m    146\u001b[0m         \u001b[0mextra_kw\u001b[0m\u001b[1;33m.\u001b[0m\u001b[0mupdate\u001b[0m\u001b[1;33m(\u001b[0m\u001b[0murlopen_kw\u001b[0m\u001b[1;33m)\u001b[0m\u001b[1;33m\u001b[0m\u001b[0m\n\u001b[0;32m    147\u001b[0m \u001b[1;33m\u001b[0m\u001b[0m\n\u001b[1;32m--> 148\u001b[1;33m         \u001b[1;32mreturn\u001b[0m \u001b[0mself\u001b[0m\u001b[1;33m.\u001b[0m\u001b[0murlopen\u001b[0m\u001b[1;33m(\u001b[0m\u001b[0mmethod\u001b[0m\u001b[1;33m,\u001b[0m \u001b[0murl\u001b[0m\u001b[1;33m,\u001b[0m \u001b[1;33m**\u001b[0m\u001b[0mextra_kw\u001b[0m\u001b[1;33m)\u001b[0m\u001b[1;33m\u001b[0m\u001b[0m\n\u001b[0m",
      "\u001b[1;32mc:\\python36\\lib\\site-packages\\urllib3\\poolmanager.py\u001b[0m in \u001b[0;36murlopen\u001b[1;34m(self, method, url, redirect, **kw)\u001b[0m\n\u001b[0;32m    319\u001b[0m             \u001b[0mresponse\u001b[0m \u001b[1;33m=\u001b[0m \u001b[0mconn\u001b[0m\u001b[1;33m.\u001b[0m\u001b[0murlopen\u001b[0m\u001b[1;33m(\u001b[0m\u001b[0mmethod\u001b[0m\u001b[1;33m,\u001b[0m \u001b[0murl\u001b[0m\u001b[1;33m,\u001b[0m \u001b[1;33m**\u001b[0m\u001b[0mkw\u001b[0m\u001b[1;33m)\u001b[0m\u001b[1;33m\u001b[0m\u001b[0m\n\u001b[0;32m    320\u001b[0m         \u001b[1;32melse\u001b[0m\u001b[1;33m:\u001b[0m\u001b[1;33m\u001b[0m\u001b[0m\n\u001b[1;32m--> 321\u001b[1;33m             \u001b[0mresponse\u001b[0m \u001b[1;33m=\u001b[0m \u001b[0mconn\u001b[0m\u001b[1;33m.\u001b[0m\u001b[0murlopen\u001b[0m\u001b[1;33m(\u001b[0m\u001b[0mmethod\u001b[0m\u001b[1;33m,\u001b[0m \u001b[0mu\u001b[0m\u001b[1;33m.\u001b[0m\u001b[0mrequest_uri\u001b[0m\u001b[1;33m,\u001b[0m \u001b[1;33m**\u001b[0m\u001b[0mkw\u001b[0m\u001b[1;33m)\u001b[0m\u001b[1;33m\u001b[0m\u001b[0m\n\u001b[0m\u001b[0;32m    322\u001b[0m \u001b[1;33m\u001b[0m\u001b[0m\n\u001b[0;32m    323\u001b[0m         \u001b[0mredirect_location\u001b[0m \u001b[1;33m=\u001b[0m \u001b[0mredirect\u001b[0m \u001b[1;32mand\u001b[0m \u001b[0mresponse\u001b[0m\u001b[1;33m.\u001b[0m\u001b[0mget_redirect_location\u001b[0m\u001b[1;33m(\u001b[0m\u001b[1;33m)\u001b[0m\u001b[1;33m\u001b[0m\u001b[0m\n",
      "\u001b[1;32mc:\\python36\\lib\\site-packages\\urllib3\\connectionpool.py\u001b[0m in \u001b[0;36murlopen\u001b[1;34m(self, method, url, body, headers, retries, redirect, assert_same_host, timeout, pool_timeout, release_conn, chunked, body_pos, **response_kw)\u001b[0m\n\u001b[0;32m    666\u001b[0m                                 \u001b[0mtimeout\u001b[0m\u001b[1;33m=\u001b[0m\u001b[0mtimeout\u001b[0m\u001b[1;33m,\u001b[0m \u001b[0mpool_timeout\u001b[0m\u001b[1;33m=\u001b[0m\u001b[0mpool_timeout\u001b[0m\u001b[1;33m,\u001b[0m\u001b[1;33m\u001b[0m\u001b[0m\n\u001b[0;32m    667\u001b[0m                                 \u001b[0mrelease_conn\u001b[0m\u001b[1;33m=\u001b[0m\u001b[0mrelease_conn\u001b[0m\u001b[1;33m,\u001b[0m \u001b[0mbody_pos\u001b[0m\u001b[1;33m=\u001b[0m\u001b[0mbody_pos\u001b[0m\u001b[1;33m,\u001b[0m\u001b[1;33m\u001b[0m\u001b[0m\n\u001b[1;32m--> 668\u001b[1;33m                                 **response_kw)\n\u001b[0m\u001b[0;32m    669\u001b[0m \u001b[1;33m\u001b[0m\u001b[0m\n\u001b[0;32m    670\u001b[0m         \u001b[1;32mdef\u001b[0m \u001b[0mdrain_and_release_conn\u001b[0m\u001b[1;33m(\u001b[0m\u001b[0mresponse\u001b[0m\u001b[1;33m)\u001b[0m\u001b[1;33m:\u001b[0m\u001b[1;33m\u001b[0m\u001b[0m\n",
      "\u001b[1;32mc:\\python36\\lib\\site-packages\\urllib3\\connectionpool.py\u001b[0m in \u001b[0;36murlopen\u001b[1;34m(self, method, url, body, headers, retries, redirect, assert_same_host, timeout, pool_timeout, release_conn, chunked, body_pos, **response_kw)\u001b[0m\n\u001b[0;32m    666\u001b[0m                                 \u001b[0mtimeout\u001b[0m\u001b[1;33m=\u001b[0m\u001b[0mtimeout\u001b[0m\u001b[1;33m,\u001b[0m \u001b[0mpool_timeout\u001b[0m\u001b[1;33m=\u001b[0m\u001b[0mpool_timeout\u001b[0m\u001b[1;33m,\u001b[0m\u001b[1;33m\u001b[0m\u001b[0m\n\u001b[0;32m    667\u001b[0m                                 \u001b[0mrelease_conn\u001b[0m\u001b[1;33m=\u001b[0m\u001b[0mrelease_conn\u001b[0m\u001b[1;33m,\u001b[0m \u001b[0mbody_pos\u001b[0m\u001b[1;33m=\u001b[0m\u001b[0mbody_pos\u001b[0m\u001b[1;33m,\u001b[0m\u001b[1;33m\u001b[0m\u001b[0m\n\u001b[1;32m--> 668\u001b[1;33m                                 **response_kw)\n\u001b[0m\u001b[0;32m    669\u001b[0m \u001b[1;33m\u001b[0m\u001b[0m\n\u001b[0;32m    670\u001b[0m         \u001b[1;32mdef\u001b[0m \u001b[0mdrain_and_release_conn\u001b[0m\u001b[1;33m(\u001b[0m\u001b[0mresponse\u001b[0m\u001b[1;33m)\u001b[0m\u001b[1;33m:\u001b[0m\u001b[1;33m\u001b[0m\u001b[0m\n",
      "\u001b[1;32mc:\\python36\\lib\\site-packages\\urllib3\\connectionpool.py\u001b[0m in \u001b[0;36murlopen\u001b[1;34m(self, method, url, body, headers, retries, redirect, assert_same_host, timeout, pool_timeout, release_conn, chunked, body_pos, **response_kw)\u001b[0m\n\u001b[0;32m    666\u001b[0m                                 \u001b[0mtimeout\u001b[0m\u001b[1;33m=\u001b[0m\u001b[0mtimeout\u001b[0m\u001b[1;33m,\u001b[0m \u001b[0mpool_timeout\u001b[0m\u001b[1;33m=\u001b[0m\u001b[0mpool_timeout\u001b[0m\u001b[1;33m,\u001b[0m\u001b[1;33m\u001b[0m\u001b[0m\n\u001b[0;32m    667\u001b[0m                                 \u001b[0mrelease_conn\u001b[0m\u001b[1;33m=\u001b[0m\u001b[0mrelease_conn\u001b[0m\u001b[1;33m,\u001b[0m \u001b[0mbody_pos\u001b[0m\u001b[1;33m=\u001b[0m\u001b[0mbody_pos\u001b[0m\u001b[1;33m,\u001b[0m\u001b[1;33m\u001b[0m\u001b[0m\n\u001b[1;32m--> 668\u001b[1;33m                                 **response_kw)\n\u001b[0m\u001b[0;32m    669\u001b[0m \u001b[1;33m\u001b[0m\u001b[0m\n\u001b[0;32m    670\u001b[0m         \u001b[1;32mdef\u001b[0m \u001b[0mdrain_and_release_conn\u001b[0m\u001b[1;33m(\u001b[0m\u001b[0mresponse\u001b[0m\u001b[1;33m)\u001b[0m\u001b[1;33m:\u001b[0m\u001b[1;33m\u001b[0m\u001b[0m\n",
      "\u001b[1;32mc:\\python36\\lib\\site-packages\\urllib3\\connectionpool.py\u001b[0m in \u001b[0;36murlopen\u001b[1;34m(self, method, url, body, headers, retries, redirect, assert_same_host, timeout, pool_timeout, release_conn, chunked, body_pos, **response_kw)\u001b[0m\n\u001b[0;32m    637\u001b[0m \u001b[1;33m\u001b[0m\u001b[0m\n\u001b[0;32m    638\u001b[0m             retries = retries.increment(method, url, error=e, _pool=self,\n\u001b[1;32m--> 639\u001b[1;33m                                         _stacktrace=sys.exc_info()[2])\n\u001b[0m\u001b[0;32m    640\u001b[0m             \u001b[0mretries\u001b[0m\u001b[1;33m.\u001b[0m\u001b[0msleep\u001b[0m\u001b[1;33m(\u001b[0m\u001b[1;33m)\u001b[0m\u001b[1;33m\u001b[0m\u001b[0m\n\u001b[0;32m    641\u001b[0m \u001b[1;33m\u001b[0m\u001b[0m\n",
      "\u001b[1;32mc:\\python36\\lib\\site-packages\\urllib3\\util\\retry.py\u001b[0m in \u001b[0;36mincrement\u001b[1;34m(self, method, url, response, error, _pool, _stacktrace)\u001b[0m\n\u001b[0;32m    386\u001b[0m \u001b[1;33m\u001b[0m\u001b[0m\n\u001b[0;32m    387\u001b[0m         \u001b[1;32mif\u001b[0m \u001b[0mnew_retry\u001b[0m\u001b[1;33m.\u001b[0m\u001b[0mis_exhausted\u001b[0m\u001b[1;33m(\u001b[0m\u001b[1;33m)\u001b[0m\u001b[1;33m:\u001b[0m\u001b[1;33m\u001b[0m\u001b[0m\n\u001b[1;32m--> 388\u001b[1;33m             \u001b[1;32mraise\u001b[0m \u001b[0mMaxRetryError\u001b[0m\u001b[1;33m(\u001b[0m\u001b[0m_pool\u001b[0m\u001b[1;33m,\u001b[0m \u001b[0murl\u001b[0m\u001b[1;33m,\u001b[0m \u001b[0merror\u001b[0m \u001b[1;32mor\u001b[0m \u001b[0mResponseError\u001b[0m\u001b[1;33m(\u001b[0m\u001b[0mcause\u001b[0m\u001b[1;33m)\u001b[0m\u001b[1;33m)\u001b[0m\u001b[1;33m\u001b[0m\u001b[0m\n\u001b[0m\u001b[0;32m    389\u001b[0m \u001b[1;33m\u001b[0m\u001b[0m\n\u001b[0;32m    390\u001b[0m         \u001b[0mlog\u001b[0m\u001b[1;33m.\u001b[0m\u001b[0mdebug\u001b[0m\u001b[1;33m(\u001b[0m\u001b[1;34m\"Incremented Retry for (url='%s'): %r\"\u001b[0m\u001b[1;33m,\u001b[0m \u001b[0murl\u001b[0m\u001b[1;33m,\u001b[0m \u001b[0mnew_retry\u001b[0m\u001b[1;33m)\u001b[0m\u001b[1;33m\u001b[0m\u001b[0m\n",
      "\u001b[1;31mMaxRetryError\u001b[0m: HTTPConnectionPool(host='127.0.0.1', port=58925): Max retries exceeded with url: /session/61dff164306306ffca357f04c75a99e4/forward (Caused by NewConnectionError('<urllib3.connection.HTTPConnection object at 0x0000024312F50320>: Failed to establish a new connection: [WinError 10061] No connection could be made because the target machine actively refused it',))"
     ]
    }
   ],
   "source": [
    "driver.forward()"
   ]
  },
  {
   "cell_type": "code",
   "execution_count": null,
   "metadata": {},
   "outputs": [],
   "source": []
  },
  {
   "cell_type": "code",
   "execution_count": null,
   "metadata": {},
   "outputs": [],
   "source": []
  },
  {
   "cell_type": "code",
   "execution_count": null,
   "metadata": {},
   "outputs": [],
   "source": []
  },
  {
   "cell_type": "code",
   "execution_count": 29,
   "metadata": {},
   "outputs": [],
   "source": [
    "from aip import AipOcr"
   ]
  },
  {
   "cell_type": "code",
   "execution_count": 30,
   "metadata": {},
   "outputs": [],
   "source": [
    "pw = {'AppID':'21726129',\n",
    "      'API Key': 'Kro1BWVTb5YIjPGvjY3xWEhe',\n",
    "      'Secret Key':'BPDE1E344GIL3hRPYd1jflwruFqvG4rA'\n",
    "     }\n",
    "client = AipOcr(pw['AppID'], pw['API Key'], pw['Secret Key'])"
   ]
  },
  {
   "cell_type": "code",
   "execution_count": 10,
   "metadata": {},
   "outputs": [],
   "source": [
    "def get_file_content(filePath):\n",
    "    with open(filePath, 'rb') as fp:\n",
    "        return fp.read()"
   ]
  },
  {
   "cell_type": "code",
   "execution_count": 37,
   "metadata": {
    "collapsed": true
   },
   "outputs": [
    {
     "data": {
      "text/plain": [
       "b'\\xff\\xd8\\xff\\xe0\\x00\\x10JFIF\\x00\\x01\\x02\\x00\\x00\\x01\\x00\\x01\\x00\\x00\\xff\\xdb\\x00C\\x00\\x08\\x06\\x06\\x07\\x06\\x05\\x08\\x07\\x07\\x07\\t\\t\\x08\\n\\x0c\\x14\\r\\x0c\\x0b\\x0b\\x0c\\x19\\x12\\x13\\x0f\\x14\\x1d\\x1a\\x1f\\x1e\\x1d\\x1a\\x1c\\x1c $.\\' \",#\\x1c\\x1c(7),01444\\x1f\\'9=82<.342\\xff\\xdb\\x00C\\x01\\t\\t\\t\\x0c\\x0b\\x0c\\x18\\r\\r\\x182!\\x1c!22222222222222222222222222222222222222222222222222\\xff\\xc0\\x00\\x11\\x08\\x002\\x01,\\x03\\x01\"\\x00\\x02\\x11\\x01\\x03\\x11\\x01\\xff\\xc4\\x00\\x1f\\x00\\x00\\x01\\x05\\x01\\x01\\x01\\x01\\x01\\x01\\x00\\x00\\x00\\x00\\x00\\x00\\x00\\x00\\x01\\x02\\x03\\x04\\x05\\x06\\x07\\x08\\t\\n\\x0b\\xff\\xc4\\x00\\xb5\\x10\\x00\\x02\\x01\\x03\\x03\\x02\\x04\\x03\\x05\\x05\\x04\\x04\\x00\\x00\\x01}\\x01\\x02\\x03\\x00\\x04\\x11\\x05\\x12!1A\\x06\\x13Qa\\x07\"q\\x142\\x81\\x91\\xa1\\x08#B\\xb1\\xc1\\x15R\\xd1\\xf0$3br\\x82\\t\\n\\x16\\x17\\x18\\x19\\x1a%&\\'()*456789:CDEFGHIJSTUVWXYZcdefghijstuvwxyz\\x83\\x84\\x85\\x86\\x87\\x88\\x89\\x8a\\x92\\x93\\x94\\x95\\x96\\x97\\x98\\x99\\x9a\\xa2\\xa3\\xa4\\xa5\\xa6\\xa7\\xa8\\xa9\\xaa\\xb2\\xb3\\xb4\\xb5\\xb6\\xb7\\xb8\\xb9\\xba\\xc2\\xc3\\xc4\\xc5\\xc6\\xc7\\xc8\\xc9\\xca\\xd2\\xd3\\xd4\\xd5\\xd6\\xd7\\xd8\\xd9\\xda\\xe1\\xe2\\xe3\\xe4\\xe5\\xe6\\xe7\\xe8\\xe9\\xea\\xf1\\xf2\\xf3\\xf4\\xf5\\xf6\\xf7\\xf8\\xf9\\xfa\\xff\\xc4\\x00\\x1f\\x01\\x00\\x03\\x01\\x01\\x01\\x01\\x01\\x01\\x01\\x01\\x01\\x00\\x00\\x00\\x00\\x00\\x00\\x01\\x02\\x03\\x04\\x05\\x06\\x07\\x08\\t\\n\\x0b\\xff\\xc4\\x00\\xb5\\x11\\x00\\x02\\x01\\x02\\x04\\x04\\x03\\x04\\x07\\x05\\x04\\x04\\x00\\x01\\x02w\\x00\\x01\\x02\\x03\\x11\\x04\\x05!1\\x06\\x12AQ\\x07aq\\x13\"2\\x81\\x08\\x14B\\x91\\xa1\\xb1\\xc1\\t#3R\\xf0\\x15br\\xd1\\n\\x16$4\\xe1%\\xf1\\x17\\x18\\x19\\x1a&\\'()*56789:CDEFGHIJSTUVWXYZcdefghijstuvwxyz\\x82\\x83\\x84\\x85\\x86\\x87\\x88\\x89\\x8a\\x92\\x93\\x94\\x95\\x96\\x97\\x98\\x99\\x9a\\xa2\\xa3\\xa4\\xa5\\xa6\\xa7\\xa8\\xa9\\xaa\\xb2\\xb3\\xb4\\xb5\\xb6\\xb7\\xb8\\xb9\\xba\\xc2\\xc3\\xc4\\xc5\\xc6\\xc7\\xc8\\xc9\\xca\\xd2\\xd3\\xd4\\xd5\\xd6\\xd7\\xd8\\xd9\\xda\\xe2\\xe3\\xe4\\xe5\\xe6\\xe7\\xe8\\xe9\\xea\\xf2\\xf3\\xf4\\xf5\\xf6\\xf7\\xf8\\xf9\\xfa\\xff\\xda\\x00\\x0c\\x03\\x01\\x00\\x02\\x11\\x03\\x11\\x00?\\x00\\xd3\\xf0\\xc7\\x864\\x0b\\x8f\\t\\xe8\\xd3M\\xa1\\xe9\\x92K%\\x8c\\x0e\\xee\\xf6\\x91\\x96f1\\x82I$rMk\\x8f\\txo\\xfe\\x85\\xed\\'\\xff\\x00\\x00\\xa3\\xff\\x00\\no\\x84\\xbf\\xe4M\\xd0\\xff\\x00\\xec\\x1fo\\xff\\x00\\xa2\\xd6\\xb6\\x85\\x00d\\x0f\\txo\\xfe\\x85\\xed\\'\\xff\\x00\\x00\\xa3\\xff\\x00\\xe2iG\\x84|5\\xff\\x00B\\xf6\\x93\\xff\\x00\\x80Q\\xff\\x00\\xf15\\xb0*\\x9e\\xa5\\xaci\\xba4+6\\xa5{\\x05\\xaclv\\xabJ\\xe1w\\x1fA\\xeb@\\x15G\\x84|5\\xff\\x00B\\xf6\\x93\\xff\\x00\\x80Q\\xff\\x00\\xf14\\xa3\\xc2>\\x1a\\xff\\x00\\xa1wI\\xff\\x00\\xc0(\\xff\\x00\\xf8\\x9a\\xd7R\\x18\\x02\\x0eA\\xe4\\x1ax\\xa0\\x0cq\\xe1\\x0f\\x0c\\xff\\x00\\xd0\\xbb\\xa4\\xff\\x00\\xe0\\x14\\x7f\\xfcM(\\xf0\\x87\\x86\\x7f\\xe8]\\xd2?\\xf0\\n?\\xfe&\\xb6\\x058P\\x068\\xf0\\x7f\\x86\\x7f\\xe8]\\xd2?\\xf0\\n?\\xfe&\\x97\\xfe\\x10\\xff\\x00\\x0c\\x7f\\xd0\\xb9\\xa4\\x7f\\xe0\\x0c\\x7f\\xfcMj\\xbc\\xf0\\xc6\\xc1d\\x965bp\\x030\\x04\\x9asK\\x1c\\x7f~E_\\xf7\\x8e(\\x03$x?\\xc3\\x1f\\xf4.i\\x1f\\xf8\\x03\\x17\\xff\\x00\\x13N\\x1e\\x0e\\xf0\\xc7\\xfd\\x0b\\x9aG\\xfe\\x00\\xc5\\xff\\x00\\xc4\\xd5\\xe7\\xd54\\xf8\\xfe\\xfd\\xf5\\xaa\\xff\\x00\\xbd2\\x8f\\xebP\\xbf\\x88\\xf48\\xff\\x00\\xd6k:r\\xff\\x00\\xbdt\\x83\\xfa\\xd0\\x04\\x03\\xc1\\xde\\x18\\xff\\x00\\xa1oG\\xff\\x00\\xc0\\x18\\xbf\\xf8\\x9ap\\xf0w\\x85\\xff\\x00\\xe8[\\xd1\\xff\\x00\\xf0\\x06/\\xfe&\\x9a\\xde2\\xf0\\xc4\\x7f{\\xc4ZH\\xf6\\xfbdg\\xfa\\xd4\\x0f\\xe3\\xff\\x00\\tG\\xf7\\xbcC\\xa7\\x9f\\xf7f\\x07\\xf9P\\x05\\xa1\\xe0\\xdf\\x0b\\xff\\x00\\xd0\\xb7\\xa3\\xff\\x00\\xe0\\x0c_\\xfcM8x7\\xc2\\xff\\x00\\xf4-\\xe8\\xff\\x00\\xf8\\x03\\x17\\xff\\x00\\x13Y\\x8f\\xf17\\xc1\\x91\\xfd\\xed~\\xd8\\xff\\x00\\xba\\xae\\x7f\\x90\\xa9\\xad>#x>\\xf22\\xf1\\xf8\\x82\\xc9@8\\xfd\\xeb\\x18\\x8f\\xe4\\xc0\\x1a\\x00\\xbc<\\x19\\xe1o\\xfa\\x16\\xb4\\x7f\\xfc\\x01\\x8b\\xff\\x00\\x89\\xa7\\x0f\\x06x[\\xfe\\x85\\xad\\x1f\\xff\\x00\\x00b\\xff\\x00\\xe2k\\x85\\xf1G\\xc6\\x8d;J\\x93\\xc9\\xd2#\\x8a\\xfd\\xf9\\xf9\\xc4\\x99N\\x18\\x83\\xd3\\xe9\\x91\\xecA\\xa9<\\x19\\xf1\\x96\\xc7]\\xbb[\\x1d^(\\xec.[%%\\xdf\\x88\\x9b\\x00\\x9cd\\xf4\\xe9@\\x1d\\xb8\\xf0g\\x85\\xbf\\xe8Z\\xd1\\xbf\\xf0\\x02/\\xfe&\\x97\\xfe\\x10\\xbf\\n\\xff\\x00\\xd0\\xb3\\xa3\\x7f\\xe0\\x04_\\xfcMj\\xc5wm.<\\xbb\\x88\\x9f\\xfd\\xd7\\x06\\xa7\\x14\\x01\\x8a<\\x17\\xe1_\\xfa\\x16to\\xfc\\x00\\x8b\\xff\\x00\\x89\\xa5\\x1e\\x0b\\xf0\\xaf\\xfd\\x0b:7\\xfe\\x00E\\xff\\x00\\xc4\\xd6\\xd8\\xa7\\n\\x00\\xc4\\x1e\\n\\xf0\\xa7\\xfd\\x0b:7\\xfe\\x00E\\xff\\x00\\xc4\\xd2\\x8f\\x05xS\\xfe\\x85\\x8d\\x17\\xff\\x00\\x00\"\\xff\\x00\\xe2klS\\x85\\x00b\\x0f\\x04\\xf8S\\xfe\\x85\\x8d\\x17\\xff\\x00\\x00\"\\xff\\x00\\xe2iG\\x82|)\\xff\\x00B\\xc6\\x8b\\xff\\x00\\x80\\x11\\x7f\\xf15\\xb8)E\\x00a\\x8f\\x04\\xf8O\\xfe\\x85\\x8d\\x17\\xff\\x00\\x00\"\\xff\\x00\\xe2i\\xc3\\xc1\\x1e\\x13\\xff\\x00\\xa1_E\\xff\\x00\\xc0\\x08\\xbf\\xf8\\x9a\\xdc\\x14\\xe1@\\x18C\\xc1\\x1e\\x13\\xff\\x00\\xa1_E\\xff\\x00\\xc1|_\\xfcM8x#\\xc2_\\xf4+\\xe8\\x9f\\xf8/\\x8b\\xff\\x00\\x89\\xad\\xc1N\\x14\\x01\\x84<\\x0f\\xe1/\\xfa\\x15\\xb4O\\xfc\\x17\\xc5\\xff\\x00\\xc4\\xd2\\x8f\\x03\\xf8K\\xfe\\x85m\\x13\\xff\\x00\\x05\\xf1\\x7f\\xf15\\xba)\\xc2\\x800\\x87\\x81\\xbc#\\xff\\x00B\\xb6\\x89\\xff\\x00\\x82\\xf8\\xbf\\xf8\\x9aQ\\xe0o\\x08\\xff\\x00\\xd0\\xad\\xa2\\x7f\\xe0\\xbe/\\xfe&\\xb7\\x85(\\xa0\\x0c!\\xe0o\\x08\\xff\\x00\\xd0\\xab\\xa1\\xff\\x00\\xe0\\xbe/\\xfe&\\x94x\\x17\\xc2\\x1f\\xf4*\\xe8\\x7f\\xf8/\\x8b\\xff\\x00\\x89\\xad\\xe1N\\x14\\x01\\x82<\\x0b\\xe1\\x0f\\xfa\\x15t?\\xfc\\x17\\xc5\\xff\\x00\\xc4\\xd7\\xce\\xdf\\x1e\\xf4\\x9d7G\\xf1\\xd5\\x95\\xbe\\x97\\xa7\\xdaX\\xc0\\xdaln\\xd1\\xda\\xc2\\xb1)o6Q\\x92\\x14\\x01\\x9c\\x01\\xcf\\xb0\\xaf\\xaa\\x05|\\xc7\\xfbF\\xff\\x00\\xc9B\\xd3\\xff\\x00\\xec\\x15\\x1f\\xfe\\x8d\\x96\\x80=+\\xc2_\\xf2&\\xe8\\x7f\\xf6\\x0f\\xb7\\xff\\x00\\xd1k[\"\\xb1\\xbc%\\xff\\x00\"n\\x87\\xff\\x00`\\xfb\\x7f\\xfd\\x16\\xb5\\xb4(\\x01Ey\\xa7\\xc6\\xd8%\\x93\\xc2vr\\xa4{\\xa3\\x8a\\xec\\x17o\\xee\\xe5X\\x0f\\xd4\\xff\\x00*\\xf4\\xb1T5\\xcd\\x0e\\xc7\\xc4ZT\\x9an\\xa0\\x8c\\xf6\\xf2\\x15b\\x15\\xb6\\x90A\\xc8\\xc1\\xa0\\x0f.\\xd3n\\xfe,\\xeaZe\\xac\\xd6?g\\x8a\\xd6HU\\xa1\\x90\\xf9\\x1f2``\\xf3\\x93\\xd3\\xd4U\\xaf\\xf8G\\xbe,\\xde\\x7f\\xad\\xf1\\x05\\xb4\\x19\\xff\\x00\\xa6\\xa1\\x7f\\xf4\\x04\\xab\\x961x\\x8f\\xe1\\xce\\xa0\\x96\\x11\\xda\\xdd\\xeb\\xbe\\x1c\\x99\\x8f\\x93\\xe4&\\xf9\\xed\\xbb\\x91\\x81\\xf8\\xf1\\xd0\\xf6\\xc1\\xc8\\xae\\xa6\\xcb\\xc7\\xfe\\x1b\\xbb\\x9b\\xc8\\x93P\\x16W=\\xe1\\xbeC\\x03\\x03\\xe9\\xf3\\x00?#@\\x1c_\\xfc+\\xbf\\x1f\\\\\\xff\\x00\\xc7\\xdf\\x8ddPz\\x88\\xeef#\\xf2\\xe2\\x97\\xfe\\x14\\xce\\xa3s\\xcd\\xef\\x8c.d\\xf5\\x1eK7\\xead\\xafX\\x8aH\\xe6\\x8dd\\x89\\xd5\\xd1\\xb9\\x0c\\xa7 \\xfe5\\r\\xd6\\xa9\\xa7\\xd8\\x83\\xf6\\xbb\\xebk|\\x7f\\xcfi\\x95?\\x99\\xa0\\x0f4\\xb7\\xf8\\x13\\xa4\\xab\\x06\\xb8\\xd6/\\xa4\\xe7\\'b\\xaag\\xf9\\xd6\\x9c\\x7f\\x06\\xbc\\x1e$1\\x93y#\\xa8\\x0cT\\xdc\\xf2\\x01\\xce\\t\\x00{\\x1f\\xca\\xb55?\\x1cCs2\\xe9^\\x14h5mZa\\xf2\\x98\\xdft\\x16\\xeb\\xdeI\\x1cq\\x81\\xe89?\\x88\\xad?\\r\\xf8f=\\x0cOusr\\xf7\\xda\\xb5\\xde\\r\\xdd\\xec\\xbd\\\\\\xf6U\\x1f\\xc2\\xa3\\xb0\\x14\\x01\\x86\\x9f\\x07\\xbc\\x18\\x9fz\\xc2w\\xff\\x00z\\xe5\\xff\\x00\\xa1\\xaa:\\x9f\\x83\\xfe\\x16h\\x11\\xef\\xd4a\\xb5\\x89\\xbb#^\\xca\\xce~\\x8a\\x1f?\\xa5q\\xbf\\x15<o\\xab\\x9f\\x12\\\\h\\xd6WR[\\xdb[\\xe1\\x18Dp\\\\\\xfb\\x9a\\x9f\\xc2\\xbf\\x07.\\xf5\\xa8\"\\xd4\\xbcA},\\x11\\xca\\x03\\xac+\\xf3H\\xc0\\xf4%\\x8fO\\xcb\\xf2\\xa0\\nZ\\xd7\\x89>\\x1c\\xd8\\xbcQ\\xe8\\x9e\\x15\\x8a\\xf7\\'\\xf7\\x92\\xcf$\\x8a\\xa83\\xd8\\x12K~\\x95\\x1e\\x85\\xe2o\\x0e\\x7f\\xc2H-\\xf5\\x8f\\x08\\xe9\\xb6\\xfal\\xc7\\xf7Lm\\xce\\xf4\\x07\\xee\\x93\\x93\\xc85O\\xe2\\xa7\\x84t\\xcf\\x08\\xeaZ}\\xbe\\x98\\xb2\\x88\\xe7\\x85\\x9d\\xcc\\x8f\\xb8\\x96\\x07\\x15\\xa3\\xf1z\\x08\\xfe\\xd1\\xe1\\xa3\\x12*\\xf9\\xd6\\t\\xf3t\\xf4\\xff\\x00\\x1a\\x00\\xf5-\\x1a\\xdb\\xe1\\xce\\xb1;\\xc1\\xa6\\xe9\\xfa\\x14\\xd3\\xa1\\xc1\\x8c\\xda\\xc7\\xbf\\xea\\x01\\x19#\\xe9\\\\\\xd7\\xc5=CG\\xf0\\xee\\x88\\xdan\\x99\\xa5\\xe9\\xd1\\xcd9h\\xe5\\x11\\xdb\"\\x94\\xdc\\x9c\\x11\\x81\\xc1\\xe8s\\xed\\\\\\x1e\\xb1\\xa3\\'\\x82\\xfcG\\xa2\\xdfi\\xb3I\\xb6\\xf6-\\xf1)8(H\\xd8F}\\x98\\xd6O\\x8cu\\xab\\x9b\\xddq\\x1d\\xee\\x0c\\xad\\x06\\xc5`\\xc3\\xac\\x88\\x02\\x96?\\\\P\\x07s\\xa0i\\xbe\\x0b\\xf0\\xb6\\x94\\x97\\xde%6\\xb7\\xf7\\xd3\\xeed\\x85\\xc2\\xc9\\xb9N\\xd3\\x9cs\\x8eA\\xfc\\t\\xf5\\xae\\x96\\xdb\\xc3\\x1f\\x0f\\xfc]$w\\x16\\xd6PX\\xdc(!b\\x88\\x05F;\\x8e\\t\\x03\\x86\\xe9\\xd3\\xb85\\xc9x\\x1b\\xe1\\x91\\xf1\\x06\\x92\\xfa\\xe6\\xa58\\x91\\x8f\\xfa\\x98\\x06\\x18\\x1e9\\x0c;\\x1eF\\x05fGu7\\x85\\xfcR\\xfaT2\\x14\\x88\\xed\\x91|\\xa1\\xb4\\x13\\xc7\\xde\\x1cm\\'h\\xe3\\xb3(\\xed\\x9a\\x00\\xf6F\\xf8o\\xe0\\xc3le\\xb9\\xd0lP\\x00Y\\x9a6`\\xb8\\xf5\\xe0\\x8e\\xdc\\xd6T\\xfe\\t\\xf8\\x7f\\x15\\x8c\\x97V\\xfa^B\\xb6\\xc5\\xf2\\xaf\\xe5@\\xcd\\x8e9\\x12q\\xf8\\xf4\\x00\\x9e\\x82\\x8f\\x10^\\xdeI\\xe1\\xe1w\\x0cl\\xc6h\\xcb\\xc2|\\xcd\\x9eS\\x11\\x87\\xc9\\xea\\x17\\xbf\\xfb$`\\x81\\xc68\\x96\\xf1\"\\xc7\\xa7\\xcd\\xa7\\xad\\xd1\\x98BTK\\x0f,\\x1f$g\\x00\\x92\\x18s\\xfd\\xd8\\xd4\\x9ce\\x9b\\xee\\x90\\r\\xfbm\\x1b\\xc3s\\xbf\\xd9\\xed!\\xd5E\\xdb\\xc6$\\x89!\\xd4n\\x10\\x10FA%\\x89\\xc6G\\xcd\\xdc\\xed#\\x8eFr\\xe2\\xbb\\xd2m5\\xa8\\xec\\xf5\\ro\\xc4Z}\\xbc\\xa3\\xe4\\x9e\\x1dbB\\x13\\xd0\\xb8#\\x80OC^\\x81\\xe0]\\x12(\\xadn5\\t\\x16W{\\x82v\\xb4\\xdb\\xb2\\x03r\\xd8\\x04\\x0e\\xa7\\xab\\x0e\\x1b\\x03\\x1f(Z\\xf2?\\x88\\xf0\\xc7k\\xe2Kh%;\\xfc\\xc9\\x8c\\xbeKm\\xf33\\xd3-\\xce\\x11x\\x1f/\\x03\\x02\\x80=>\\xcf\\xc3\\xbau\\xe4)-\\x8f\\xc4_\\x11\\x15\\x7f\\xbb\\xbbSF\\xf7\\xe8W5_\\\\\\xb1\\x97\\xc36\\xe2\\xfe\\xe7\\xe2v\\xa5m\\x18S\\xb1gH\\xa7/\\xf4\\\\|\\xdf\\x95yn\\xb7\\xe0mR=\\x055\\x1b\\x19\\xd5\\xec\\x84\\x89\\xfb\\xb5\\xc0\\xfd\\xee\\xdf\\x98\\x83\\xe9\\xd3\\xff\\x00\\xd7\\x9a\\xe5^K\\xcdSE\\x8d\\xe6\\x91\\xe4\\x8e\\xd8\\xf9K\\x92If9 g\\xd0\\x0c\\xd0\\x07\\xbb\\xf8cU\\xf1\\x97\\x88,\\xa7\\xbd\\xd2\\xfcUewo\\x10S\\x9b\\xed1c\\'#8>[v\\x18\\xfc\\xeb\\x06\\x1f\\x8d^!\\x83\\xc4M\\xa3]Y\\xe8\\xb3H\\xb2\\xf9+2\\x19cGl\\xe0s\\xf3c$\\xf5#\\x15\\x8b\\xf0\\x9b\\xc4\\xc3M\\xd1u\\xbbG\\x93f\\xcbf\\x920=FI\\'\\xf0\\xc0\\xaf<\\xfb\\x05\\xe5\\xc6\\x9dq\\xe2(\\xf3\\xe5\\xc3t\\x15\\x9b\\xd1\\x9b\\x91@\\x1fO\\x0f\\x14x\\xca\\xdf\\xfe>\\xbc\\x03#\\xa8\\xea\\xf6\\x9a\\x9cRg\\xfe\\x02@5\\x11\\xf8\\xa3omx\\x96W\\xfe\\x18\\xf1\\x15\\xb5\\xd3)q\\x18\\xb4Y\\tQ\\xd5\\x86\\xd6\\'\\x1e\\xf8\\xac\\xaf\\x1ex\\xad\\x93\\xe0\\xdc:\\x9d\\x9c\\xef\\x1c\\xb7\\xd1D\\x88\\xe8\\xc40\\'\\xa9\\x04}+\\x97\\xfd\\x9e\\xecd\\xb9\\xbf\\xd6\\xb5\\x99\\xd9\\xa5\\x90*B\\x1d\\xce[\\'\\x93\\xc9\\xfa\\n\\x00\\xf4Q\\xf1c\\xc2\\x08v\\xdd\\xde\\xdc\\xd9?\\xf7n\\xac\\xa6O\\xd7n?Z\\xd0\\x8b\\xc7\\x9e\\x0e\\xd4\\xa1h\\xa3\\xf16\\x9a\\x04\\x8aW\\xe6\\xbaX\\xdb\\x9fL\\x90s])\\x00\\x8c\\x11\\x90{\\x1a\\xcf\\xba\\xf0\\xee\\x87}\\x9f\\xb5\\xe8\\xda}\\xc6z\\xf9\\xb6\\xa8\\xff\\x00\\xccP\\x079\\xf0\\xb7W\\x17\\xbe\\x10\\x8e\\xc6{\\xd4\\xb9\\xbd\\xd3\\xae%\\xb3\\x95\\xfc\\xc0\\xc6M\\x8ev\\xb6s\\xc8*W\\x9e\\xf5\\xdc\\n\\xf2+\\x7f\\x00\\xf8T\\xfcP\\xd6tk\\xfd\\x12\\xd9\\xad\\xae\\xec\\xa1\\xbf\\xb2D\\xccb \\t\\x8eE]\\xa4ul\\x1cWN>\\x15\\xe8\\x10\\xff\\x00\\xc8>\\xebY\\xd3\\xbd>\\xc9\\xa9\\xcc\\xb8\\xfc\\xc9\\xa0\\x0e\\xe0S\\x85p\\xc3\\xc0:\\xa5\\xb7\\xfc\\x83\\xfc{\\xe28\\xcfo\\xb5I\\x1d\\xc0\\xff\\x00\\xc7\\x96\\xa5\\xb7\\xd0|wis\\x13\\x1f\\x1aZ\\xde\\xc0\\x1c\\x17K\\x8d)\\x11\\x8a\\xe7\\x90\\x19\\x1b\\xae=\\xa8\\x03\\xb5\\x14\\xe1H)E\\x008W\\xcc_\\xb4o\\xfc\\x94+\\x0f\\xfb\\x05G\\xff\\x00\\xa3e\\xaf\\xa7E|\\xc5\\xfbF\\xff\\x00\\xc9B\\xb0\\xff\\x00\\xb0T\\x7f\\xfa6Z\\x00\\xf4\\xaf\\t\\x7f\\xc8\\x9b\\xa1\\xff\\x00\\xd8>\\xdf\\xff\\x00E\\xadm\\n\\xc5\\xf0\\x97\\xfc\\x89\\xba\\x1f\\xfd\\x83\\xed\\xff\\x00\\xf4Z\\xd6\\xd0\\xa0\\x07\\nQH)E\\x008T\\x17\\x9au\\x96\\xa3\\x0f\\x93}g\\x05\\xcc\\x7f\\xdc\\x9a0\\xe3\\xf258\\xa7\\n\\x00\\xe4d\\xf8e\\xe1g\\xb9\\xf3R\\xcaXP\\x83\\xbe\\x08.d\\x8e7\\xf7 \\x1f\\xe5\\x8a\\xbbi\\xe0\\x0f\\t\\xd9\\xe3\\xca\\xd0,\\x9b\\xfe\\xba\\xa7\\x9b\\xff\\x00\\xa1f\\xba!N\\x14\\x01^\\xd3M\\xb1\\xb0\\xdd\\xf6;+{}\\xc0\\x03\\xe4\\xc4\\xa9\\x90:\\x0e\\x07\\xbd[\\x14\\x82\\x94P\\x07\\xce\\x1f\\x174\\xd9t\\xaf\\x88R\\xde\\xed\\xfd\\xdd\\xda\\xa4\\xf1\\x9e\\xc4\\x80\\x01\\x1f\\x9a\\xfe\\xb5\\xf4.\\x9b\\xa8Y\\xdfi0_[J\\x86\\xd5\\xe2\\x0e\\xad\\x9e\\x02\\xe3\\xbf\\xd2\\xb0\\xbcu\\xe0\\xcbo\\x19h\\xbfff\\x11^Bw\\xdb\\xcd\\x8f\\xba\\xde\\x87\\xd8\\xd7\\x90Z|*\\xf1\\xcc\\xb2\\x1d1\\xe4\\x16\\xf6\\x1b\\xbevk\\x9f\\xddc\\xd7h\\xeb\\xf9~T\\x01\\x1f\\xc5\\xff\\x00\\x15\\xe9\\xde$\\xd7ma\\xd3O\\x9b\\x15\\x8a:4\\xe0\\xfc\\xb23\\x11\\xf7}\\x86:\\xfb\\x9a\\xb7\\xf1C\\xfd/\\xc1\\xbe\\x06\\xd4G;\\xec|\\xb7?\\xed\\x04\\x8f\\xfa\\xee\\xafN\\xd1~\\x16xgL\\xd2a\\xb3\\xba\\xb1\\x8e\\xfeTo1\\xe6\\x9b?;\\xe3\\x19\\xc6q\\x8fj\\xd0\\xf1\\x1f\\x80\\xb4o\\x11\\xe8\\x10h\\xf2F\\xf6\\x90[\\x1d\\xd6\\xc6\\xdb\\x0b\\xe5\\x1c\\x1e\\xc7\\x829\\xe9\\xfc\\xa8\\x03\\xc8\\xbe%\\x1f\\xb4x7\\xc2\\x1a\\x82+9kU_0q\\xb3\\n?\\xf4#\\xcf\\xb6\\xdfs\\\\\\xc7\\x8b\\xf4\\xeb\\x88\\xe2\\xd3\\xef\\xb9\\x9a\\xd6h\\x07\\x95t\\t>b\\xe4\\xe3\\x7f\\x1c9\\xe4\\x90{0\\x1d\\xab\\xd4|e\\xe0-Q~\\x18\\xe9\\xba5\\xa0:\\x85\\xe6\\x9fpp\\xf0\\xae\\x0b\\xc6Kc\\xe5=:\\xaf\\x19<\\x8a\\xdd\\xf0w\\x85WR\\xf0\\x15\\x95\\x9f\\x884\\xf0\\x93!`\\xf1\\xba\\xe08\\xcf\\x1b\\x97\\xd7\\x1cg\\xdb4\\x01\\xc1h\\x1f\\x15a\\xd0|>-R\\xde;\\x89\\x1a\\x02\\x15\\x9b!\\xd2A\\xfc2\\x0e\\x03)\\xec\\xc3\\xa0\\xe0\\x8a\\xe0.n\\xf5=s\\xc4\\x9flX\\x18\\xdc\\xc9&\\x11\\n\\xe7\\x038\\ns\\xd4\\x0c\\x81\\xcfj\\xfa6\\xcf\\xe1\\x7f\\x85\\xec\\x89\\xf2\\xec\\x89\\x02A${\\x9b&3\\xdc\\x06\\xeaA\\xf49\\xad\\xcb_\\x0b\\xe8\\xd6l\\xad\\x05\\x84\\t\\xb3\\xee\\x80\\x83\\x03\\xf4\\xfa\\xfedt\\xe2\\x80+Cg\\x1d\\xaf\\x83D7N\\x03\\xf9\\x07t\\x989\\xdcW\\x19\\x18\\xc1\\xce8\\xeb\\x9fry?1\\xea\\xd6\\xd3\\xeb:\\xc6\\xady\\xa7\\xc6\\xf2A\\x03\\xe5\\xca\\x87<\\x0e7\\x1c\\xe4\\x81\\xc7\\xf1\\x1e\\xf8\\xeb_B|O\\xfe\\xd2\\x9f\\xc3\\xe6\\xc3KM\\xd3N\\x08\\t\\xb5\\xbes\\xe8\\x0e\\n\\x93\\xd7\\xe5<\\x9e1Y?\\n< 4\\xed\\x1ef\\xbe\\x8fyc\\x82\\x92!\\x18c\\xd7\\x82\\xe4\\x02:gj\\x9fs\\xd8\\x03;\\xe1W\\xc4\\xa3x\\xc9\\xa1\\xea\\xaaU\\xd5@\\x86lp@\\xc0\\xe7\\x03\\x8fL\\x93\\xe8=Ms\\xbf\\x1a-\\x9e\\xd3\\xc5\\xb6\\x13\\x1bp\\xb6\\xa4\\xeeR\\xaf\\x1a\\x17\\xc9\\x19\\xe9\\x96\\xceA\\xf9\\x9b\\x8e\\x80\\x0f\\x94\\x93\\xea\\xf1\\xfc7\\xd0\"\\xbe{\\xa8\\xad\\xd5\\x0f%\\x10F\\x84+\\x1f\\xe2$\\x8d\\xcd\\xcf@N\\xd1\\xd8T^>\\xf8{o\\xe3M>\\x14\\x8eH\\xad\\xef!`\\x16y\\x10\\xb6\\x13<\\x81\\x829\\xfa\\xe4v\\xf4 \\x02\\x92\\xad\\xb6\\xa3\\xf0\\xa0\\x00\\x905\\xb8\\x8bk\\xc7l\\xb8\\x08\\x87\\xef\\xc6\\x84\\xfd\\xe6<\\xa8n\\x85\\x98\\x1cb\\xbc\\xa7\\xe1e\\x92jz\\xa6\\xb5\\xa3\\xdc/\\xfc|[:I\\x18\\xce\\xdd\\xbc\\xee\\x0b\\xe8\\xfb\\xb6\\x01\\xed\\xbb\\xd0W\\xb8x[D\\xbe\\xd3\\xfc#>\\x89u3\\x89\\xa2\\xdf\\x12\\\\yJ\\xa0\\x8cp\\xca\\xa0\\xf4\\xfa\\xf2}\\xba\\x0f:\\xf8o\\xf0\\xef\\xc4\\x9a/\\x8d\\x9fV\\xba\\x81m\\xac\\xd2G\\x1b$\\x97y`s\\x83\\xd3\\xe6\\xe3\\xbf\\x1ds\\xed@\\x1e5w\\x1d\\xee\\x83\\xa8\\xdeX\\xb3\\xec\\x90n\\x86]\\x9d\\x19z\\x1f\\xc0\\xd7\\xb0\\xf8\\'\\xc2\\xe3W\\xf8\\x0f\\xadE\\xb33\\xdc4\\x93\\xc5\\xc7V\\x8ceG\\xe2A\\xfc\\xeb\\xd5.\\xbc\\x05\\xe1mCR\\x9bP\\xbd\\xd1\\xad\\xaen\\xa69w\\x94\\x16\\xf6\\xe9\\xd0V\\xbe\\x99\\xa4i\\xfa5\\x80\\xb1\\xd3\\xadR\\xde\\xd4\\x12DI\\x9d\\xa3=z\\xd0\\x07\\xca:\\x97\\x8a\\x1a\\xf7\\xe1\\x9e\\x97\\xa0H\\xe7\\xce\\xb3\\xbe\\x94\\x95\\xf4\\x8fh+\\xfa\\xb3\\x7f\\xdf5\\xed\\x9f\\x00\\xec\\xbe\\xcf\\xe0\\t.H\\x1b\\xaen\\xdd\\xb3\\xfe\\xca\\x80\\xa3\\xf5\\x06\\xbc\\xb7\\xc6\\xbf\\n|Kg\\xe2\\x8b\\xf94\\xcd\\x1e{\\xbd>y\\xdaH\\x1e\\xdc\\x07\\xc2\\xb1\\xce\\xd2\\x01\\xc8\\xc6q\\xc8\\xafw\\xf8c\\xa3]h?\\x0f\\xf4\\xcb\\x1b\\xebv\\x82\\xedC4\\xb1\\xb62\\tbF\\x7f\\x0cP\\x07_N\\x14\\xd1N\\x14\\x01\\xcfx\\x97\\xc1\\x9ao\\x89d\\x82\\xeeG\\x9e\\xcfT\\xb5\\x18\\xb5\\xd4-d),?\\xd0\\x8fc\\xeazf\\xb0\\x87\\x8b\\xf5\\x8f\\x05\\x11o\\xe3x<\\xfd<\\x1d\\xb1\\xeb\\xb6Q\\x13\\x1bz\\t\\xa3\\x19(\\xde\\xe3 \\x93\\xc5z\\x00\\xa8\\xae\\xac\\xed\\xaf\\xed^\\xd6\\xf2\\xde+\\x8by\\x06\\x1e)\\x90:\\xb0\\xf7\\x07\\x83@\\x10i:\\xde\\x97\\xae\\xda\\x0b\\xad*\\xfe\\xde\\xf2\\x13\\xfcP\\xc8\\x1b\\x1e\\xc7\\xd0\\xfb\\x1a\\xd0\\x15\\xe6z\\xb7\\xc1\\x8d!\\xae[Q\\xf0\\xc5\\xf5\\xe7\\x87\\xb5!\\x92\\xafi!\\xf2\\xc9\\xf7\\\\\\xe4\\x0f\\xa1\\x03\\xda\\xb9}\\x13\\xe2/\\x89~\\x1ek\\xe7@\\xf8\\x86\\xb2\\xdcZ\\xca\\xe5\\xa1\\xd4@\\xde@\\'\\xef\\x03\\x8f\\x9d9\\xe9\\xf7\\x97\\xa6:\\n\\x00\\xf7aN\\x15\\r\\xbc\\xf1\\\\\\xdb\\xc5q\\x04\\x8b$2\\xa0tu9\\x0c\\xa4d\\x11\\xf8T\\xc2\\x80\\x14W\\xcc_\\xb4o\\xfc\\x94-?\\xfe\\xc1Q\\xff\\x00\\xe8\\xd9k\\xe9\\xe1_0\\xfe\\xd1\\xdf\\xf2P\\xb4\\xff\\x00\\xfb\\x05G\\xff\\x00\\xa3e\\xa0\\x0f5\\x87\\xc4\\xfe \\xb7\\x868a\\xd758\\xe2\\x8dB\"%\\xdc\\x81U@\\xc0\\x00\\x03\\xc0\\x14\\xff\\x00\\xf8K|I\\xff\\x00C\\x0e\\xad\\xff\\x00\\x81\\xb2\\x7f\\x8d\\x14P\\x02\\xff\\x00\\xc2]\\xe2_\\xfa\\x18uo\\xfc\\r\\x93\\xff\\x00\\x8a\\xa3\\xfe\\x12\\xef\\x12\\xff\\x00\\xd0\\xc3\\xab\\x7f\\xe0l\\x9f\\xfcU\\x14P\\x01\\xff\\x00\\tw\\x89\\x7f\\xe8b\\xd5\\xbf\\xf06O\\xfe*\\x8f\\xf8K\\xfcM\\xff\\x00C\\x16\\xad\\xff\\x00\\x81\\xb2\\x7f\\xf1TQ@\\x07\\xfc%\\xfe&\\xff\\x00\\xa1\\x8bW\\xff\\x00\\xc0\\xd9?\\xf8\\xaa_\\xf8K\\xfcM\\xff\\x00C\\x1e\\xaf\\xff\\x00\\x81\\xb2\\x7f\\xf1TQ@\\x07\\xfc&\\x1e\\'\\xff\\x00\\xa1\\x8fW\\xff\\x00\\xc0\\xe9?\\xf8\\xaa?\\xe10\\xf1?\\xfd\\x0cz\\xbf\\xfe\\x07K\\xff\\x00\\xc5QE\\x00\\x1f\\xf0\\x98\\xf8\\x9f\\xfe\\x86=_\\xff\\x00\\x03\\xa5\\xff\\x00\\xe2\\xa8\\xff\\x00\\x84\\xc7\\xc5\\x1f\\xf42k\\x1f\\xf8\\x1d/\\xff\\x00\\x15E\\x14\\x00\\xbf\\xf0\\x98\\xf8\\xa3\\xfe\\x86Mc\\xff\\x00\\x03\\xa5\\xff\\x00\\xe2\\xa8\\xff\\x00\\x84\\xcb\\xc5\\x1f\\xf42k\\x1f\\xf8\\x1d/\\xff\\x00\\x15E\\x14\\x00\\x7f\\xc2e\\xe2\\x8f\\xfa\\x195\\x8f\\xfc\\x0e\\x97\\xff\\x00\\x8a\\xa3\\xfe\\x13/\\x14\\xff\\x00\\xd0\\xcb\\xac\\x7f\\xe0t\\xbf\\xfcU\\x14P\\x01\\xff\\x00\\t\\x9f\\x8a\\x7f\\xe8e\\xd6?\\xf0:_\\xfe*\\x97\\xfe\\x13?\\x14\\xff\\x00\\xd0\\xcb\\xac\\xff\\x00\\xe0|\\xbf\\xfcU\\x14P\\x01\\xff\\x00\\t\\x9f\\x8a\\x7f\\xe8e\\xd6\\x7f\\xf0>_\\xfe*\\x99\\x0f\\x8b|Kn\\x9b!\\xf1\\x0e\\xad\\x1ag;R\\xf6@3\\xf85\\x14P\\x03\\xff\\x00\\xe14\\xf1W\\xfd\\x0c\\xda\\xcf\\xfe\\x07\\xcb\\xff\\x00\\xc5Q\\xff\\x00\\t\\xaf\\x8a\\xff\\x00\\xe8f\\xd6\\x7f\\xf0>_\\xfe*\\x8a(\\x01\\x7f\\xe15\\xf1_\\xfd\\x0c\\xfa\\xd7\\xfe\\x07\\xcb\\xff\\x00\\xc5Q\\xff\\x00\\t\\xaf\\x8a\\xff\\x00\\xe8g\\xd6\\xbf\\xf0>_\\xfe*\\x8a(\\x00\\xff\\x00\\x84\\xdb\\xc5\\x7f\\xf43\\xeb_\\xf8\\x1f/\\xff\\x00\\x15G\\xfc&\\xde,\\xff\\x00\\xa1\\x9fZ\\xff\\x00\\xc0\\xf9\\x7f\\xf8\\xaa(\\xa0\\x05\\xff\\x00\\x84\\xdf\\xc5\\x9f\\xf44k_\\xf8\\x1f/\\xff\\x00\\x15G\\xfc&\\xfe,\\xff\\x00\\xa1\\xa3Z\\xff\\x00\\xc1\\x84\\xbf\\xfcU\\x14P\\x01\\xff\\x00\\t\\xbf\\x8b\\x7f\\xe8h\\xd6\\xff\\x00\\xf0a/\\xff\\x00\\x15G\\xfc\\'\\x1e-\\xff\\x00\\xa1\\xa7[\\xff\\x00\\xc1\\x84\\xbf\\xfcU\\x14P\\x01\\xff\\x00\\t\\xc7\\x8b\\x7f\\xe8i\\xd6\\xff\\x00\\xf0a/\\xff\\x00\\x15K\\xff\\x00\\t\\xcf\\x8b\\xbf\\xe8i\\xd6\\xff\\x00\\xf0a/\\xff\\x00\\x15E\\x14\\x00\\x7f\\xc2s\\xe2\\xef\\xfa\\x1au\\xbf\\xfc\\x18K\\xff\\x00\\xc5U=C\\xc4z\\xee\\xaf\\nC\\xa9kZ\\x8d\\xecH\\xdb\\xd5.n\\x9eEV\\xf5\\x01\\x89\\xe6\\x8a(\\x02\\xe0\\xf1\\xcf\\x8b\\x80\\xc0\\xf1N\\xb6\\x00\\xff\\x00\\xa8\\x84\\xbf\\xfcU\\x1f\\xf0\\x9dx\\xbf\\xfe\\x86\\xads\\xff\\x00\\x06\\x12\\xff\\x00\\xf1TQ@\\x0b\\xff\\x00\\t\\xd7\\x8b\\xff\\x00\\xe8j\\xd7?\\xf0c/\\xff\\x00\\x15Yz\\x96\\xad\\xa9k7\\x0bq\\xaaj\\x17w\\xd3\\xaa\\x04Y.\\xa6iX.I\\xc0,I\\xc6I8\\xf74Q@\\x1f\\xff\\xd9'"
      ]
     },
     "execution_count": 37,
     "metadata": {},
     "output_type": "execute_result"
    }
   ],
   "source": [
    "image = get_file_content('valid.png')\n",
    "image"
   ]
  },
  {
   "cell_type": "code",
   "execution_count": 31,
   "metadata": {},
   "outputs": [
    {
     "data": {
      "text/plain": [
       "{'log_id': 1799720582178125825,\n",
       " 'error_code': 282114,\n",
       " 'error_msg': 'url size error'}"
      ]
     },
     "execution_count": 31,
     "metadata": {},
     "output_type": "execute_result"
    }
   ],
   "source": [
    "# a = client.basicGeneral(image)\n",
    "# b = client.basicAccurate(image)\n",
    "c = client.basicGeneralUrl(image_link)\n",
    "c"
   ]
  },
  {
   "cell_type": "code",
   "execution_count": null,
   "metadata": {},
   "outputs": [],
   "source": []
  },
  {
   "cell_type": "code",
   "execution_count": null,
   "metadata": {},
   "outputs": [],
   "source": []
  },
  {
   "cell_type": "code",
   "execution_count": null,
   "metadata": {},
   "outputs": [],
   "source": []
  },
  {
   "cell_type": "code",
   "execution_count": null,
   "metadata": {},
   "outputs": [],
   "source": []
  },
  {
   "cell_type": "code",
   "execution_count": null,
   "metadata": {},
   "outputs": [],
   "source": []
  },
  {
   "cell_type": "code",
   "execution_count": null,
   "metadata": {},
   "outputs": [],
   "source": []
  },
  {
   "cell_type": "code",
   "execution_count": null,
   "metadata": {
    "collapsed": true
   },
   "outputs": [
    {
     "name": "stdout",
     "output_type": "stream",
     "text": [
      "20 time consuming:  0.0625\n",
      "21 time consuming:  0.046875\n",
      "22 time consuming:  0.046875\n",
      "23 time consuming:  0.109375\n",
      "24 time consuming:  0.078125\n",
      "25 time consuming:  0.015625\n",
      "26 time consuming:  0.046875\n",
      "27 time consuming:  0.015625\n",
      "28 time consuming:  0.015625\n",
      "29 time consuming:  0.046875\n",
      "30 time consuming:  0.0625\n",
      "31 time consuming:  0.015625\n",
      "32 time consuming:  0.046875\n",
      "33 time consuming:  0.0625\n",
      "34 time consuming:  0.03125\n",
      "35 time consuming:  0.03125\n",
      "36 time consuming:  0.03125\n",
      "37 time consuming:  0.0625\n",
      "38 time consuming:  0.0625\n",
      "39 time consuming:  0.046875\n",
      "40 time consuming:  0.0625\n",
      "41 time consuming:  0.046875\n",
      "42 time consuming:  0.078125\n",
      "43 time consuming:  0.046875\n",
      "44 time consuming:  0.09375\n",
      "45 time consuming:  0.0625\n",
      "46 time consuming:  0.09375\n",
      "47 time consuming:  0.046875\n",
      "48 time consuming:  0.03125\n",
      "49 time consuming:  0.046875\n",
      "50 time consuming:  0.046875\n",
      "51 time consuming:  0.03125\n",
      "52 time consuming:  0.0625\n",
      "53 time consuming:  0.0625\n",
      "54 time consuming:  0.015625\n",
      "55 time consuming:  0.078125\n",
      "56 time consuming:  0.0625\n",
      "57 time consuming:  0.078125\n",
      "58 time consuming:  0.046875\n",
      "59 time consuming:  0.09375\n",
      "60 time consuming:  0.078125\n",
      "61 time consuming:  0.046875\n",
      "62 time consuming:  0.03125\n",
      "63 time consuming:  0.03125\n",
      "64 time consuming:  0.078125\n",
      "65 time consuming:  0.046875\n",
      "66 time consuming:  0.046875\n",
      "67 time consuming:  0.09375\n",
      "68 time consuming:  0.09375\n",
      "69 time consuming:  0.078125\n"
     ]
    }
   ],
   "source": [
    "i = 19\n",
    "while  i <= 1000: \n",
    "    start = time.process_time()\n",
    "    result = requests.get(link, headers=header)\n",
    "    result1 = soup(result.text, 'lxml')\n",
    "    number = result1.find('captcha')\n",
    "    image_link = number.div['style'].split(' ')[1][5:-2]\n",
    "    urllib.request.urlretrieve(image_link, 'foto/{}.png'.format(i + 1))\n",
    "    i = i + 1\n",
    "    end  = time.process_time()\n",
    "    print(i, 'time consuming: ', end- start)\n",
    "    time.sleep(1)"
   ]
  },
  {
   "cell_type": "code",
   "execution_count": null,
   "metadata": {},
   "outputs": [],
   "source": [
    "result = requests.get(link, headers=header)\n",
    "result1 = soup(result.text, 'lxml')\n",
    "number = result1.find('captcha')\n",
    "image_link = number.div['style'].split(' ')[1][5:-2]\n",
    "urllib.request.urlretrieve(image_link, 'foto/{}.png'.format(1))"
   ]
  },
  {
   "cell_type": "code",
   "execution_count": null,
   "metadata": {},
   "outputs": [],
   "source": []
  },
  {
   "cell_type": "code",
   "execution_count": null,
   "metadata": {},
   "outputs": [],
   "source": []
  },
  {
   "cell_type": "code",
   "execution_count": null,
   "metadata": {},
   "outputs": [],
   "source": [
    "img = Image.open('2.png')\n",
    "img"
   ]
  },
  {
   "cell_type": "code",
   "execution_count": null,
   "metadata": {},
   "outputs": [],
   "source": [
    "text = pytesseract.image_to_string(img)\n",
    "print(text)"
   ]
  },
  {
   "cell_type": "code",
   "execution_count": null,
   "metadata": {},
   "outputs": [],
   "source": [
    "img1 = io.imread('number.png')\n",
    "img_gray=color.rgb2gray(img1)\n",
    "io.imshow(img_gray)\n",
    "io.show()"
   ]
  },
  {
   "cell_type": "code",
   "execution_count": null,
   "metadata": {},
   "outputs": [],
   "source": [
    "text = pytesseract.image_to_string(img1)\n",
    "print(text)"
   ]
  },
  {
   "cell_type": "code",
   "execution_count": null,
   "metadata": {},
   "outputs": [],
   "source": [
    "data = {'captchaText':'cpn5nf'}"
   ]
  },
  {
   "cell_type": "code",
   "execution_count": null,
   "metadata": {},
   "outputs": [],
   "source": [
    "result = requests.post(link, data, headers=header)"
   ]
  },
  {
   "cell_type": "code",
   "execution_count": null,
   "metadata": {},
   "outputs": [],
   "source": [
    "pytesseract.image_to_string?"
   ]
  },
  {
   "cell_type": "code",
   "execution_count": null,
   "metadata": {},
   "outputs": [],
   "source": []
  },
  {
   "cell_type": "code",
   "execution_count": null,
   "metadata": {},
   "outputs": [],
   "source": []
  },
  {
   "cell_type": "code",
   "execution_count": null,
   "metadata": {},
   "outputs": [],
   "source": []
  }
 ],
 "metadata": {
  "kernelspec": {
   "display_name": "Python 3",
   "language": "python",
   "name": "python3"
  },
  "language_info": {
   "codemirror_mode": {
    "name": "ipython",
    "version": 3
   },
   "file_extension": ".py",
   "mimetype": "text/x-python",
   "name": "python",
   "nbconvert_exporter": "python",
   "pygments_lexer": "ipython3",
   "version": "3.6.1"
  }
 },
 "nbformat": 4,
 "nbformat_minor": 4
}

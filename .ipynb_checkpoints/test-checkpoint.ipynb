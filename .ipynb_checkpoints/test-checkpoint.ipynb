{
 "cells": [
  {
   "cell_type": "code",
   "execution_count": 1,
   "metadata": {},
   "outputs": [],
   "source": [
    "from selenium import webdriver\n",
    "from selenium.webdriver.support.select import Select\n",
    "from selenium.webdriver.common.keys import Keys\n",
    "import time"
   ]
  },
  {
   "cell_type": "code",
   "execution_count": 2,
   "metadata": {},
   "outputs": [],
   "source": [
    "link = 'https://service2.diplo.de/rktermin/extern/appointment_showMonth.do?locationCode=shan&realmId=96&categoryId=560'\n",
    "info_tao = {'last_name': 'Jiang',\n",
    "            'first_name': 'Tao',\n",
    "            'mail': 'taoorwell@163.com',\n",
    "           'birth': '12.05.1994',\n",
    "            'admission': '01.10.2020',\n",
    "            'passport': 'EJ1359688',\n",
    "            'uni': 'University of Goettingen',\n",
    "            'phone': '861520589164'}"
   ]
  },
  {
   "cell_type": "code",
   "execution_count": 4,
   "metadata": {},
   "outputs": [],
   "source": [
    "# driver = webdriver.Firefox()\n",
    "# driver.get('https://www.baidu.com')"
   ]
  },
  {
   "cell_type": "code",
   "execution_count": 11,
   "metadata": {},
   "outputs": [],
   "source": [
    "driver = webdriver.Chrome()\n",
    "driver.get(link)"
   ]
  },
  {
   "cell_type": "code",
   "execution_count": 12,
   "metadata": {},
   "outputs": [],
   "source": [
    "def valid_capcha(driver, idname):\n",
    "    x = input()\n",
    "    driver.find_element_by_id(idname).send_keys(x)\n",
    "    driver.find_element_by_id(idname).send_keys(Keys.ENTER)"
   ]
  },
  {
   "cell_type": "code",
   "execution_count": 13,
   "metadata": {},
   "outputs": [
    {
     "name": "stdout",
     "output_type": "stream",
     "text": [
      "a4bn87\n",
      "capcha is right, please go on\n"
     ]
    }
   ],
   "source": [
    "valid_capcha(driver, idname='appointment_captcha_month_captchaText')\n",
    "i = 0\n",
    "while i == 0:\n",
    "    try:\n",
    "        driver.find_element_by_id('message')\n",
    "        print(\"capcha is wrong, reload again\")\n",
    "        valid_capcha(driver, idname='appointment_captcha_month_captchaText')\n",
    "    except:\n",
    "        print('capcha is right, please go on')\n",
    "        i = 1\n",
    "        \n",
    "start = time.time()"
   ]
  },
  {
   "cell_type": "code",
   "execution_count": 18,
   "metadata": {},
   "outputs": [
    {
     "name": "stdout",
     "output_type": "stream",
     "text": [
      "b53d36\n",
      "capcha is right, please go on\n",
      "Time Consuming:48.382941007614136\n"
     ]
    }
   ],
   "source": [
    "# 1 last name\n",
    "driver.find_element_by_id('appointment_newAppointmentForm_lastname').send_keys(info_tao['last_name'])\n",
    "# 2 first name\n",
    "driver.find_element_by_id('appointment_newAppointmentForm_firstname').send_keys(info_tao['first_name'])\n",
    "# 3 mail\n",
    "driver.find_element_by_id('appointment_newAppointmentForm_email').send_keys(info_tao['mail'])\n",
    "# 4 mail again\n",
    "driver.find_element_by_id('appointment_newAppointmentForm_emailrepeat').send_keys(info_tao['mail'])\n",
    "# 5-0 last name\n",
    "driver.find_element_by_id('appointment_newAppointmentForm_fields_0__content').send_keys(info_tao['last_name'])\n",
    "# 6-1 first name\n",
    "driver.find_element_by_id('appointment_newAppointmentForm_fields_1__content').send_keys(info_tao['first_name'])\n",
    "# 7-2 passport\n",
    "driver.find_element_by_id('appointment_newAppointmentForm_fields_2__content').send_keys(info_tao['passport'])\n",
    "# 9-4 phone\n",
    "driver.find_element_by_id('appointment_newAppointmentForm_fields_4__content').send_keys(info_tao['phone'])\n",
    "# 10-5 purpose\n",
    "s = Select(driver.find_element_by_xpath('/html/body/div[1]/div[2]/div[1]/div[1]/fieldset/form/div[10]/div[2]/select'))\n",
    "s.select_by_index(1)\n",
    "# 13-8 aps last name\n",
    "driver.find_element_by_id('appointment_newAppointmentForm_fields_8__content').send_keys(info_tao['last_name'])\n",
    "# 16-11 admission\n",
    "driver.find_element_by_id('appointment_newAppointmentForm_fields_11__content').send_keys(info_tao['admission'])\n",
    "# 17-12 uni\n",
    "driver.find_element_by_id('appointment_newAppointmentForm_fields_12__content').send_keys(info_tao['uni'])\n",
    "\n",
    "# 11, 12, 15 all confirms click\n",
    "checkboxs = driver.find_elements_by_xpath(\"//input[@type='checkbox']\")\n",
    "for a in checkboxs:\n",
    "    driver.execute_script(\"arguments[0].click();\", a)\n",
    "    \n",
    "\n",
    "\n",
    "def fill_date(field):\n",
    "    driver.find_element_by_id(field).click()\n",
    "    s = Select(driver.find_element_by_xpath('//*[@id=\"ui-datepicker-div\"]/div/div/select[1]'))\n",
    "    s.select_by_value('4')\n",
    "    s = Select(driver.find_element_by_xpath('//*[@id=\"ui-datepicker-div\"]/div/div/select[2]'))\n",
    "    s.select_by_value('1994')\n",
    "    driver.find_element_by_xpath('//*[@id=\"ui-datepicker-div\"]/table/tbody/tr[2]/td[5]/a').click()\n",
    "# 8-3 birth\n",
    "# js = 'document.getElementById(\"fields3content\").removeAttribute(\"readonly\");'\n",
    "# driver.execute_script(js)\n",
    "# driver.find_element_by_id('fields3content').send_keys(info_tao['birth'])\n",
    "fill_date(field='fields3content')\n",
    "\n",
    "# 14-9 birth\n",
    "# js1 = 'document.getElementById(\"fields9content\").removeAttribute(\"readonly\");'\n",
    "# driver.execute_script(js1)\n",
    "# driver.find_element_by_id('fields9content').send_keys(info_tao['birth'])\n",
    "fill_date(field='fields9content')\n",
    "\n",
    "valid_capcha(driver, idname='appointment_newAppointmentForm_captchaText')\n",
    "i = 0\n",
    "while i == 0:\n",
    "    try:\n",
    "        driver.find_element_by_id('message')\n",
    "        # 8-3 birth\n",
    "        fill_date(field='fields3content')\n",
    "        fill_date(field='fields9content')\n",
    "        print(\"capcha is wrong, reload again\")\n",
    "        valid_capcha(driver, idname='appointment_newAppointmentForm_captchaText')\n",
    "    except:\n",
    "        print('capcha is right, please go on')\n",
    "        i = 1\n",
    "\n",
    "end = time.time()\n",
    "print('Time Consuming:{}'.format(end - start))"
   ]
  },
  {
   "cell_type": "code",
   "execution_count": 10,
   "metadata": {},
   "outputs": [
    {
     "ename": "NoSuchWindowException",
     "evalue": "Message: no such window: target window already closed\nfrom unknown error: web view not found\n  (Session info: chrome=83.0.4103.106)\n",
     "output_type": "error",
     "traceback": [
      "\u001b[1;31m---------------------------------------------------------------------------\u001b[0m",
      "\u001b[1;31mNoSuchWindowException\u001b[0m                     Traceback (most recent call last)",
      "\u001b[1;32m<ipython-input-10-ad0c9a213c39>\u001b[0m in \u001b[0;36m<module>\u001b[1;34m\u001b[0m\n\u001b[1;32m----> 1\u001b[1;33m \u001b[0mdriver\u001b[0m\u001b[1;33m.\u001b[0m\u001b[0mclose\u001b[0m\u001b[1;33m(\u001b[0m\u001b[1;33m)\u001b[0m\u001b[1;33m\u001b[0m\u001b[0m\n\u001b[0m",
      "\u001b[1;32mc:\\users\\taoor\\appdata\\local\\programs\\python\\python37\\lib\\site-packages\\selenium\\webdriver\\remote\\webdriver.py\u001b[0m in \u001b[0;36mclose\u001b[1;34m(self)\u001b[0m\n\u001b[0;32m    686\u001b[0m             \u001b[0mdriver\u001b[0m\u001b[1;33m.\u001b[0m\u001b[0mclose\u001b[0m\u001b[1;33m(\u001b[0m\u001b[1;33m)\u001b[0m\u001b[1;33m\u001b[0m\u001b[0m\n\u001b[0;32m    687\u001b[0m         \"\"\"\n\u001b[1;32m--> 688\u001b[1;33m         \u001b[0mself\u001b[0m\u001b[1;33m.\u001b[0m\u001b[0mexecute\u001b[0m\u001b[1;33m(\u001b[0m\u001b[0mCommand\u001b[0m\u001b[1;33m.\u001b[0m\u001b[0mCLOSE\u001b[0m\u001b[1;33m)\u001b[0m\u001b[1;33m\u001b[0m\u001b[0m\n\u001b[0m\u001b[0;32m    689\u001b[0m \u001b[1;33m\u001b[0m\u001b[0m\n\u001b[0;32m    690\u001b[0m     \u001b[1;32mdef\u001b[0m \u001b[0mquit\u001b[0m\u001b[1;33m(\u001b[0m\u001b[0mself\u001b[0m\u001b[1;33m)\u001b[0m\u001b[1;33m:\u001b[0m\u001b[1;33m\u001b[0m\u001b[0m\n",
      "\u001b[1;32mc:\\users\\taoor\\appdata\\local\\programs\\python\\python37\\lib\\site-packages\\selenium\\webdriver\\remote\\webdriver.py\u001b[0m in \u001b[0;36mexecute\u001b[1;34m(self, driver_command, params)\u001b[0m\n\u001b[0;32m    319\u001b[0m         \u001b[0mresponse\u001b[0m \u001b[1;33m=\u001b[0m \u001b[0mself\u001b[0m\u001b[1;33m.\u001b[0m\u001b[0mcommand_executor\u001b[0m\u001b[1;33m.\u001b[0m\u001b[0mexecute\u001b[0m\u001b[1;33m(\u001b[0m\u001b[0mdriver_command\u001b[0m\u001b[1;33m,\u001b[0m \u001b[0mparams\u001b[0m\u001b[1;33m)\u001b[0m\u001b[1;33m\u001b[0m\u001b[0m\n\u001b[0;32m    320\u001b[0m         \u001b[1;32mif\u001b[0m \u001b[0mresponse\u001b[0m\u001b[1;33m:\u001b[0m\u001b[1;33m\u001b[0m\u001b[0m\n\u001b[1;32m--> 321\u001b[1;33m             \u001b[0mself\u001b[0m\u001b[1;33m.\u001b[0m\u001b[0merror_handler\u001b[0m\u001b[1;33m.\u001b[0m\u001b[0mcheck_response\u001b[0m\u001b[1;33m(\u001b[0m\u001b[0mresponse\u001b[0m\u001b[1;33m)\u001b[0m\u001b[1;33m\u001b[0m\u001b[0m\n\u001b[0m\u001b[0;32m    322\u001b[0m             response['value'] = self._unwrap_value(\n\u001b[0;32m    323\u001b[0m                 response.get('value', None))\n",
      "\u001b[1;32mc:\\users\\taoor\\appdata\\local\\programs\\python\\python37\\lib\\site-packages\\selenium\\webdriver\\remote\\errorhandler.py\u001b[0m in \u001b[0;36mcheck_response\u001b[1;34m(self, response)\u001b[0m\n\u001b[0;32m    240\u001b[0m                 \u001b[0malert_text\u001b[0m \u001b[1;33m=\u001b[0m \u001b[0mvalue\u001b[0m\u001b[1;33m[\u001b[0m\u001b[1;34m'alert'\u001b[0m\u001b[1;33m]\u001b[0m\u001b[1;33m.\u001b[0m\u001b[0mget\u001b[0m\u001b[1;33m(\u001b[0m\u001b[1;34m'text'\u001b[0m\u001b[1;33m)\u001b[0m\u001b[1;33m\u001b[0m\u001b[0m\n\u001b[0;32m    241\u001b[0m             \u001b[1;32mraise\u001b[0m \u001b[0mexception_class\u001b[0m\u001b[1;33m(\u001b[0m\u001b[0mmessage\u001b[0m\u001b[1;33m,\u001b[0m \u001b[0mscreen\u001b[0m\u001b[1;33m,\u001b[0m \u001b[0mstacktrace\u001b[0m\u001b[1;33m,\u001b[0m \u001b[0malert_text\u001b[0m\u001b[1;33m)\u001b[0m\u001b[1;33m\u001b[0m\u001b[0m\n\u001b[1;32m--> 242\u001b[1;33m         \u001b[1;32mraise\u001b[0m \u001b[0mexception_class\u001b[0m\u001b[1;33m(\u001b[0m\u001b[0mmessage\u001b[0m\u001b[1;33m,\u001b[0m \u001b[0mscreen\u001b[0m\u001b[1;33m,\u001b[0m \u001b[0mstacktrace\u001b[0m\u001b[1;33m)\u001b[0m\u001b[1;33m\u001b[0m\u001b[0m\n\u001b[0m\u001b[0;32m    243\u001b[0m \u001b[1;33m\u001b[0m\u001b[0m\n\u001b[0;32m    244\u001b[0m     \u001b[1;32mdef\u001b[0m \u001b[0m_value_or_default\u001b[0m\u001b[1;33m(\u001b[0m\u001b[0mself\u001b[0m\u001b[1;33m,\u001b[0m \u001b[0mobj\u001b[0m\u001b[1;33m,\u001b[0m \u001b[0mkey\u001b[0m\u001b[1;33m,\u001b[0m \u001b[0mdefault\u001b[0m\u001b[1;33m)\u001b[0m\u001b[1;33m:\u001b[0m\u001b[1;33m\u001b[0m\u001b[0m\n",
      "\u001b[1;31mNoSuchWindowException\u001b[0m: Message: no such window: target window already closed\nfrom unknown error: web view not found\n  (Session info: chrome=83.0.4103.106)\n"
     ]
    }
   ],
   "source": [
    "driver.close()"
   ]
  },
  {
   "cell_type": "code",
   "execution_count": null,
   "metadata": {},
   "outputs": [],
   "source": []
  },
  {
   "cell_type": "code",
   "execution_count": 19,
   "metadata": {},
   "outputs": [],
   "source": [
    "driver.find_element_by_xpath('//*[@id=\"content\"]/div[1]/div[11]/div[2]/a').click()"
   ]
  },
  {
   "cell_type": "code",
   "execution_count": 35,
   "metadata": {},
   "outputs": [],
   "source": [
    "# /html/body/div[1]/div[2]/div[1]/div[1]/div[11]/div[2]/a"
   ]
  },
  {
   "cell_type": "code",
   "execution_count": 20,
   "metadata": {},
   "outputs": [],
   "source": [
    "driver.find_element_by_xpath('//*[@id=\"content\"]/div[1]/div[10]/div[2]/a').click()"
   ]
  },
  {
   "cell_type": "code",
   "execution_count": null,
   "metadata": {},
   "outputs": [],
   "source": [
    "# /html/body/div[1]/div[2]/div[1]/div[1]/div[7]/div[2]/a"
   ]
  },
  {
   "cell_type": "code",
   "execution_count": 13,
   "metadata": {},
   "outputs": [],
   "source": [
    "from skimage import io"
   ]
  },
  {
   "cell_type": "code",
   "execution_count": 67,
   "metadata": {},
   "outputs": [],
   "source": [
    "file = 'foto/20.png'"
   ]
  },
  {
   "cell_type": "code",
   "execution_count": 68,
   "metadata": {},
   "outputs": [],
   "source": [
    "image = io.imread(file, as_gray=True)"
   ]
  },
  {
   "cell_type": "code",
   "execution_count": 69,
   "metadata": {},
   "outputs": [
    {
     "data": {
      "text/plain": [
       "(50, 300)"
      ]
     },
     "execution_count": 69,
     "metadata": {},
     "output_type": "execute_result"
    }
   ],
   "source": [
    "image.shape"
   ]
  },
  {
   "cell_type": "code",
   "execution_count": 70,
   "metadata": {},
   "outputs": [
    {
     "data": {
      "text/plain": [
       "<matplotlib.image.AxesImage at 0x1c04aa6a4a8>"
      ]
     },
     "execution_count": 70,
     "metadata": {},
     "output_type": "execute_result"
    },
    {
     "data": {
      "image/png": "[encoded data removed]",
      "text/plain": [
       "<Figure size 432x288 with 1 Axes>"
      ]
     },
     "metadata": {
      "needs_background": "light"
     },
     "output_type": "display_data"
    }
   ],
   "source": [
    "io.imshow(image)"
   ]
  },
  {
   "cell_type": "code",
   "execution_count": 72,
   "metadata": {},
   "outputs": [
    {
     "data": {
      "text/plain": [
       "<matplotlib.image.AxesImage at 0x1c04bafa400>"
      ]
     },
     "execution_count": 72,
     "metadata": {},
     "output_type": "execute_result"
    },
    {
     "data": {
      "image/png": "[encoded data removed]",
      "text/plain": [
       "<Figure size 432x288 with 1 Axes>"
      ]
     },
     "metadata": {
      "needs_background": "light"
     },
     "output_type": "display_data"
    }
   ],
   "source": [
    "image1 = image[10:, 85:220]\n",
    "io.imshow(image1)"
   ]
  },
  {
   "cell_type": "code",
   "execution_count": 77,
   "metadata": {},
   "outputs": [
    {
     "data": {
      "text/plain": [
       "<matplotlib.image.AxesImage at 0x1c04bce65c0>"
      ]
     },
     "execution_count": 77,
     "metadata": {},
     "output_type": "execute_result"
    },
    {
     "data": {
      "image/png": "[encoded data removed]",
      "text/plain": [
       "<Figure size 432x288 with 1 Axes>"
      ]
     },
     "metadata": {
      "needs_background": "light"
     },
     "output_type": "display_data"
    }
   ],
   "source": [
    "io.imshow(image1[:, 100:125])"
   ]
  },
  {
   "cell_type": "code",
   "execution_count": null,
   "metadata": {},
   "outputs": [],
   "source": []
  },
  {
   "cell_type": "code",
   "execution_count": null,
   "metadata": {},
   "outputs": [],
   "source": []
  }
 ],
 "metadata": {
  "kernelspec": {
   "display_name": "Python 3",
   "language": "python",
   "name": "python3"
  },
  "language_info": {
   "codemirror_mode": {
    "name": "ipython",
    "version": 3
   },
   "file_extension": ".py",
   "mimetype": "text/x-python",
   "name": "python",
   "nbconvert_exporter": "python",
   "pygments_lexer": "ipython3",
   "version": "3.7.0"
  }
 },
 "nbformat": 4,
 "nbformat_minor": 4
}

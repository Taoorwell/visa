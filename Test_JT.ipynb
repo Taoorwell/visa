{
 "cells": [
  {
   "cell_type": "markdown",
   "metadata": {},
   "source": [
    "Import Python Packages"
   ]
  },
  {
   "cell_type": "code",
   "execution_count": 1,
   "metadata": {},
   "outputs": [],
   "source": [
    "from selenium import webdriver\n",
    "from selenium.webdriver.support.select import Select\n",
    "from selenium.webdriver.common.keys import Keys\n",
    "import time"
   ]
  },
  {
   "cell_type": "markdown",
   "metadata": {},
   "source": [
    "Personal information"
   ]
  },
  {
   "cell_type": "code",
   "execution_count": 2,
   "metadata": {},
   "outputs": [],
   "source": [
    "info_tao = {'last_name': 'Jiang',\n",
    "            'first_name': 'Tao',\n",
    "            'mail': 'taoorwell@163.com',\n",
    "            'admission': '01.10.2020',\n",
    "            'passport': 'EJ1359688',\n",
    "            'uni': 'University of Goettingen',\n",
    "            'phone': '8615201589164'}\n",
    "link_kant  = 'https://service2.diplo.de/rktermin/extern/appointment_showMonth.do?locationCode=kant&realmId=1004&categoryId=2292'\n",
    "link_shan = 'https://service2.diplo.de/rktermin/extern/appointment_showMonth.do?locationCode=shan&realmId=96&categoryId=560'\n",
    "link_pek = 'https://service2.diplo.de/rktermin/extern/appointment_showMonth.do?locationCode=peki&realmId=12&categoryId=75'"
   ]
  },
  {
   "cell_type": "markdown",
   "metadata": {},
   "source": [
    "Some Functions"
   ]
  },
  {
   "cell_type": "code",
   "execution_count": 3,
   "metadata": {},
   "outputs": [],
   "source": [
    "def valid_capcha(driver, idname):\n",
    "    x = input()\n",
    "    driver.find_element_by_id(idname).send_keys(x)\n",
    "    driver.find_element_by_id(idname).send_keys(Keys.ENTER)\n",
    "\n",
    "def fill_date(field):\n",
    "    driver.find_element_by_id(field).click()\n",
    "    s = Select(driver.find_element_by_xpath('//*[@id=\"ui-datepicker-div\"]/div/div/select[1]'))\n",
    "    s.select_by_value('4')\n",
    "    s = Select(driver.find_element_by_xpath('//*[@id=\"ui-datepicker-div\"]/div/div/select[2]'))\n",
    "    s.select_by_value('1994')\n",
    "    driver.find_element_by_xpath('//*[@id=\"ui-datepicker-div\"]/table/tbody/tr[2]/td[5]/a').click()"
   ]
  },
  {
   "cell_type": "markdown",
   "metadata": {},
   "source": [
    "# Test For Guangdong"
   ]
  },
  {
   "cell_type": "markdown",
   "metadata": {},
   "source": [
    "1.Login and input capcha in first website"
   ]
  },
  {
   "cell_type": "code",
   "execution_count": 4,
   "metadata": {
    "scrolled": true
   },
   "outputs": [],
   "source": [
    "driver = webdriver.Chrome()\n",
    "driver.get(link_kant)"
   ]
  },
  {
   "cell_type": "code",
   "execution_count": 5,
   "metadata": {},
   "outputs": [
    {
     "name": "stdout",
     "output_type": "stream",
     "text": [
      "nw4w5y\n",
      "capcha is wrong, reload again\n",
      "f5855f\n",
      "capcha is right, please go on\n"
     ]
    }
   ],
   "source": [
    "valid_capcha(driver, idname='appointment_captcha_month_captchaText')\n",
    "i = 0\n",
    "while i == 0:\n",
    "    try:\n",
    "        driver.find_element_by_id('message')\n",
    "        print(\"capcha is wrong, reload again\")\n",
    "        valid_capcha(driver, idname='appointment_captcha_month_captchaText')\n",
    "    except:\n",
    "        print('capcha is right, please go on')\n",
    "        i = 1"
   ]
  },
  {
   "cell_type": "markdown",
   "metadata": {},
   "source": [
    "2.Select the appointment by youself"
   ]
  },
  {
   "cell_type": "markdown",
   "metadata": {},
   "source": [
    "3.Start filling the sheet"
   ]
  },
  {
   "cell_type": "code",
   "execution_count": 6,
   "metadata": {},
   "outputs": [],
   "source": [
    "# 1 last name\n",
    "driver.find_element_by_id('appointment_newAppointmentForm_lastname').send_keys(info_tao['last_name'])\n",
    "# 2 first name\n",
    "driver.find_element_by_id('appointment_newAppointmentForm_firstname').send_keys(info_tao['first_name'])\n",
    "# 3 mail\n",
    "driver.find_element_by_id('appointment_newAppointmentForm_email').send_keys(info_tao['mail'])\n",
    "# 4 mail again\n",
    "driver.find_element_by_id('appointment_newAppointmentForm_emailrepeat').send_keys(info_tao['mail'])\n",
    "# 5-0 last name\n",
    "\n",
    "# 6-1 first name\n",
    "driver.find_element_by_id('appointment_newAppointmentForm_fields_1__content').send_keys(info_tao['passport'])\n",
    "# 7-2 passport\n",
    "# 10-5 purpose\n",
    "s = Select(driver.find_element_by_id('appointment_newAppointmentForm_fields_2__content'))\n",
    "s.select_by_index(1)\n",
    "\n",
    "# 16-11 admission\n",
    "driver.find_element_by_id('appointment_newAppointmentForm_fields_5__content').send_keys(info_tao['phone'])\n",
    "# 17-12 uni\n",
    "driver.find_element_by_id('appointment_newAppointmentForm_fields_4__content').send_keys(info_tao['uni'])\n",
    "\n",
    "# 11, 12, 15 all confirms click\n",
    "checkboxs = driver.find_elements_by_xpath(\"//input[@type='checkbox']\")\n",
    "for a in checkboxs:\n",
    "    driver.execute_script(\"arguments[0].click();\", a)\n",
    "\n",
    "# 8-3 birth\n",
    "fill_date(field='fields0content')\n",
    "\n",
    "# 14-9 birth\n",
    "fill_date(field='fields3content')"
   ]
  },
  {
   "cell_type": "markdown",
   "metadata": {},
   "source": [
    "4.input capcha (测试可以省略这一步，无需提交)"
   ]
  },
  {
   "cell_type": "code",
   "execution_count": null,
   "metadata": {},
   "outputs": [],
   "source": [
    "valid_capcha(driver, idname='appointment_newAppointmentForm_captchaText')\n",
    "i = 0\n",
    "while i == 0:\n",
    "    try:\n",
    "        driver.find_element_by_id('message')\n",
    "        # 8-3 birth\n",
    "        fill_date(field='fields0content')\n",
    "        fill_date(field='fields3content')\n",
    "        print(\"capcha is wrong, reload again\")\n",
    "        valid_capcha(driver, idname='appointment_newAppointmentForm_captchaText')\n",
    "    except:\n",
    "        print('capcha is right, please go on')\n",
    "        i = 1"
   ]
  },
  {
   "cell_type": "code",
   "execution_count": 7,
   "metadata": {},
   "outputs": [],
   "source": [
    "driver.close()"
   ]
  },
  {
   "cell_type": "markdown",
   "metadata": {},
   "source": [
    "# Test for Shanghai"
   ]
  },
  {
   "cell_type": "markdown",
   "metadata": {},
   "source": [
    "1.Login and input capcha"
   ]
  },
  {
   "cell_type": "code",
   "execution_count": 11,
   "metadata": {},
   "outputs": [],
   "source": [
    "driver = webdriver.Chrome()\n",
    "driver.get(link_shan)"
   ]
  },
  {
   "cell_type": "code",
   "execution_count": 12,
   "metadata": {},
   "outputs": [
    {
     "name": "stdout",
     "output_type": "stream",
     "text": [
      "58nnx8\n",
      "capcha is right, please go on\n"
     ]
    }
   ],
   "source": [
    "valid_capcha(driver, idname='appointment_captcha_month_captchaText')\n",
    "i = 0\n",
    "while i == 0:\n",
    "    try:\n",
    "        driver.find_element_by_id('message')\n",
    "        print(\"capcha is wrong, reload again\")\n",
    "        valid_capcha(driver, idname='appointment_captcha_month_captchaText')\n",
    "    except:\n",
    "        print('capcha is right, please go on')\n",
    "        i = 1\n",
    "\n",
    "start = time.time()"
   ]
  },
  {
   "cell_type": "markdown",
   "metadata": {},
   "source": [
    "2.Select the appointment by youself"
   ]
  },
  {
   "cell_type": "markdown",
   "metadata": {},
   "source": [
    "3.Start filling the sheet and input capcha below"
   ]
  },
  {
   "cell_type": "code",
   "execution_count": 13,
   "metadata": {},
   "outputs": [
    {
     "name": "stdout",
     "output_type": "stream",
     "text": [
      "n6dfx2\n",
      "capcha is right, please go on\n",
      "Time Consuming:16.625513792037964\n"
     ]
    }
   ],
   "source": [
    "# 1 last name\n",
    "driver.find_element_by_id('appointment_newAppointmentForm_lastname').send_keys(info_tao['last_name'])\n",
    "# 2 first name\n",
    "driver.find_element_by_id('appointment_newAppointmentForm_firstname').send_keys(info_tao['first_name'])\n",
    "# 3 mail\n",
    "driver.find_element_by_id('appointment_newAppointmentForm_email').send_keys(info_tao['mail'])\n",
    "# 4 mail again\n",
    "driver.find_element_by_id('appointment_newAppointmentForm_emailrepeat').send_keys(info_tao['mail'])\n",
    "# 5-0 last name\n",
    "driver.find_element_by_id('appointment_newAppointmentForm_fields_0__content').send_keys(info_tao['last_name'])\n",
    "# 6-1 first name\n",
    "driver.find_element_by_id('appointment_newAppointmentForm_fields_1__content').send_keys(info_tao['first_name'])\n",
    "# 7-2 passport\n",
    "driver.find_element_by_id('appointment_newAppointmentForm_fields_2__content').send_keys(info_tao['passport'])\n",
    "# 9-4 phone\n",
    "driver.find_element_by_id('appointment_newAppointmentForm_fields_4__content').send_keys(info_tao['phone'])\n",
    "# 10-5 purpose\n",
    "s = Select(driver.find_element_by_xpath('/html/body/div[1]/div[2]/div[1]/div[1]/fieldset/form/div[10]/div[2]/select'))\n",
    "s.select_by_index(1)\n",
    "# 13-8 aps last name\n",
    "driver.find_element_by_id('appointment_newAppointmentForm_fields_8__content').send_keys(info_tao['last_name'])\n",
    "# 16-11 admission\n",
    "driver.find_element_by_id('appointment_newAppointmentForm_fields_11__content').send_keys(info_tao['admission'])\n",
    "# 17-12 uni\n",
    "driver.find_element_by_id('appointment_newAppointmentForm_fields_12__content').send_keys(info_tao['uni'])\n",
    "\n",
    "# 11, 12, 15 all confirms click\n",
    "checkboxs = driver.find_elements_by_xpath(\"//input[@type='checkbox']\")\n",
    "for a in checkboxs:\n",
    "    driver.execute_script(\"arguments[0].click();\", a)\n",
    "\n",
    "# 8-3 birth\n",
    "fill_date(field='fields3content')\n",
    "\n",
    "# 14-9 birth\n",
    "fill_date(field='fields9content')\n",
    "\n",
    "valid_capcha(driver, idname='appointment_newAppointmentForm_captchaText')\n",
    "i = 0\n",
    "while i == 0:\n",
    "    try:\n",
    "        driver.find_element_by_id('message')\n",
    "        # 8-3 birth\n",
    "        fill_date(field='fields3content')\n",
    "        fill_date(field='fields9content')\n",
    "        print(\"capcha is wrong, reload again\")\n",
    "        valid_capcha(driver, idname='appointment_newAppointmentForm_captchaText')\n",
    "    except:\n",
    "        print('capcha is right, please go on')\n",
    "        i = 1\n",
    "\n",
    "end = time.time()\n",
    "print('Time Consuming:{}'.format(end - start))"
   ]
  },
  {
   "cell_type": "code",
   "execution_count": null,
   "metadata": {},
   "outputs": [],
   "source": []
  },
  {
   "cell_type": "code",
   "execution_count": 6,
   "metadata": {},
   "outputs": [],
   "source": [
    "driver.close()"
   ]
  },
  {
   "cell_type": "markdown",
   "metadata": {},
   "source": [
    "# Test for Beijing"
   ]
  },
  {
   "cell_type": "markdown",
   "metadata": {},
   "source": [
    "1.Login and input capcha"
   ]
  },
  {
   "cell_type": "code",
   "execution_count": 7,
   "metadata": {},
   "outputs": [],
   "source": [
    "driver = webdriver.Chrome()\n",
    "driver.get(link_pek)"
   ]
  },
  {
   "cell_type": "code",
   "execution_count": 10,
   "metadata": {},
   "outputs": [
    {
     "name": "stdout",
     "output_type": "stream",
     "text": [
      "cn35ey\n",
      "capcha is right, please go on\n"
     ]
    }
   ],
   "source": [
    "valid_capcha(driver, idname='appointment_captcha_month_captchaText')\n",
    "i = 0\n",
    "while i == 0:\n",
    "    try:\n",
    "        driver.find_element_by_id('message')\n",
    "        print(\"capcha is wrong, reload again\")\n",
    "        valid_capcha(driver, idname='appointment_captcha_month_captchaText')\n",
    "    except:\n",
    "        print('capcha is right, please go on')\n",
    "        i = 1\n",
    "\n",
    "start = time.time()"
   ]
  },
  {
   "cell_type": "code",
   "execution_count": null,
   "metadata": {},
   "outputs": [],
   "source": [
    "# 1 last name\n",
    "driver.find_element_by_id('appointment_newAppointmentForm_lastname').send_keys(info_tao['last_name'])\n",
    "# 2 first name\n",
    "driver.find_element_by_id('appointment_newAppointmentForm_firstname').send_keys(info_tao['first_name'])\n",
    "# 3 mail\n",
    "driver.find_element_by_id('appointment_newAppointmentForm_email').send_keys(info_tao['mail'])\n",
    "# 4 mail again\n",
    "driver.find_element_by_id('appointment_newAppointmentForm_emailrepeat').send_keys(info_tao['mail'])\n",
    "# 5-0 last name\n",
    "driver.find_element_by_id('appointment_newAppointmentForm_fields_0__content').send_keys(info_tao['last_name'])\n",
    "# 6-1 first name\n",
    "driver.find_element_by_id('appointment_newAppointmentForm_fields_1__content').send_keys(info_tao['first_name'])\n",
    "# 7-2 passport\n",
    "driver.find_element_by_id('appointment_newAppointmentForm_fields_2__content').send_keys(info_tao['passport'])\n",
    "# 9-4 phone\n",
    "driver.find_element_by_id('appointment_newAppointmentForm_fields_4__content').send_keys(info_tao['phone'])\n",
    "# 10-5 purpose\n",
    "s = Select(driver.find_element_by_xpath('/html/body/div[1]/div[2]/div[1]/div[1]/fieldset/form/div[10]/div[2]/select'))\n",
    "s.select_by_index(1)\n",
    "# 13-8 aps last name\n",
    "driver.find_element_by_id('appointment_newAppointmentForm_fields_8__content').send_keys(info_tao['last_name'])\n",
    "# 16-11 admission\n",
    "driver.find_element_by_id('appointment_newAppointmentForm_fields_11__content').send_keys(info_tao['admission'])\n",
    "# 17-12 uni\n",
    "driver.find_element_by_id('appointment_newAppointmentForm_fields_12__content').send_keys(info_tao['uni'])\n",
    "\n",
    "# 11, 12, 15 all confirms click\n",
    "checkboxs = driver.find_elements_by_xpath(\"//input[@type='checkbox']\")\n",
    "for a in checkboxs:\n",
    "    driver.execute_script(\"arguments[0].click();\", a)\n",
    "\n",
    "# 8-3 birth\n",
    "fill_date(field='fields3content')\n",
    "\n",
    "# 14-9 birth\n",
    "fill_date(field='fields9content')\n",
    "\n",
    "valid_capcha(driver, idname='appointment_newAppointmentForm_captchaText')\n",
    "i = 0\n",
    "while i == 0:\n",
    "    try:\n",
    "        driver.find_element_by_id('message')\n",
    "        # 8-3 birth\n",
    "        fill_date(field='fields3content')\n",
    "        fill_date(field='fields9content')\n",
    "        print(\"capcha is wrong, reload again\")\n",
    "        valid_capcha(driver, idname='appointment_newAppointmentForm_captchaText')\n",
    "    except:\n",
    "        print('capcha is right, please go on')\n",
    "        i = 1\n",
    "\n",
    "end = time.time()\n",
    "print('Time Consuming:{}'.format(end - start))"
   ]
  },
  {
   "cell_type": "code",
   "execution_count": null,
   "metadata": {},
   "outputs": [],
   "source": []
  }
 ],
 "metadata": {
  "kernelspec": {
   "display_name": "Python 3",
   "language": "python",
   "name": "python3"
  },
  "language_info": {
   "codemirror_mode": {
    "name": "ipython",
    "version": 3
   },
   "file_extension": ".py",
   "mimetype": "text/x-python",
   "name": "python",
   "nbconvert_exporter": "python",
   "pygments_lexer": "ipython3",
   "version": "3.7.0"
  }
 },
 "nbformat": 4,
 "nbformat_minor": 4
}
